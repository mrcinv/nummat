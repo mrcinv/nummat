{
 "metadata": {
  "name": ""
 },
 "nbformat": 3,
 "nbformat_minor": 0,
 "worksheets": [
  {
   "cells": [
    {
     "cell_type": "markdown",
     "metadata": {},
     "source": [
      "# Interpolacija z radialnimi baznimi funkcijami\n",
      "\n",
      "## Implicitno podane krivulje\n",
      "Za opis ploskev in krivulj se v grafiki pogosto uporablja implicitna oblika. Da ne bomo predolgi, se omejimo na krivulje v ravnini.iv Krivuljo lahko podamo na razli\u010dne na\u010dine, ki imajo razli\u010dne prednosti in slabosti. Namesto, da krivuljo podamo parametri\u010dno s funkcijami koordinat $(x(t),y(t),z(t)$ je pogosto la\u017eje, \u010de jo podamo implicitno v obliki ena\u010dbe\n",
      "\n",
      "$$F(x,y)=0,$$\n",
      "\n",
      "kjer je $F$ zvezna in odvedljiva."
     ]
    },
    {
     "cell_type": "code",
     "collapsed": false,
     "input": [
      "%pylab inline\n",
      "# elipsa podana z ena\u010dbo x^2+2y^2=1\n",
      "F = lambda x,y: x**2+2*y**2-1\n",
      "x = linspace(-1,1,20)\n",
      "X,Y = meshgrid(x,x)\n",
      "contour(F(X,Y),levels=[0])"
     ],
     "language": "python",
     "metadata": {},
     "outputs": [
      {
       "output_type": "stream",
       "stream": "stdout",
       "text": [
        "Populating the interactive namespace from numpy and matplotlib\n"
       ]
      },
      {
       "metadata": {},
       "output_type": "pyout",
       "prompt_number": 7,
       "text": [
        "<matplotlib.contour.QuadContourSet instance at 0x4084560>"
       ]
      },
      {
       "metadata": {},
       "output_type": "display_data",
       "png": "[encoded data removed]",
       "text": [
        "<matplotlib.figure.Figure at 0x4232e90>"
       ]
      }
     ],
     "prompt_number": 7
    },
    {
     "cell_type": "markdown",
     "metadata": {},
     "source": [
      "#Implicitna interpolacija\n",
      "\n",
      "Denimo, da imamo zaporedje to\u010dk v ravnini $(x_i,y_j)$, ki le\u017eijo na neznani krivulji. \u017delimo poiskati implicitno ena\u010dbo za to krivuljo. I\u0161\u010demo torej neni\u010delno gladko funkcijo $F$ za katero velja\n",
      "\n",
      "$$F(x_i,y_i)=0.$$\n",
      "\n",
      "Interpolacijska naloga je enostavno re\u0161ljiva, \u010de interpolacijsko funkcijo sestavimo kot linearno kombinacijo v napej dolo\u010denih baznih funkcij $\\varphi_i(x,y)$:\n",
      "\n",
      "$$F(x,y)=\\sum_{i=1}^n\\alpha_i\\varphi_i(x,y).$$\n",
      "\n",
      "Pogosta izbira za bazne funkcije so polinomi, vendar se za na\u0161o nalogo bolje obnesejo [radialne bazne funkcije](http://en.wikipedia.org/wiki/Radial_basis_function). \n",
      "\n",
      "#Radialne bazne funkcije\n",
      "\n",
      "Funkciji $\\varphi(x)$ re\u010demo *radialna funkcija* s centrom $c$, \u010de je odvisna le od razdalje $\\varphi(x)=\\varphi(||x-c||)$ do centra. \u010ce za centre vzamemo interpolacijske to\u010dke, dobimo bazo, s katero lahko opi\u0161emo vi\u0161insko funkcijo in s tem tudi implicitno krivuljo. Za funkcijo oddaljenosti $\\varphi(r)$ vzamemo ponavadi funkcijo v obliki *zvona*. npr. Gaussovo funkcijo\n",
      "\n",
      "$$\\varphi(r)=e^{-r^2}$$"
     ]
    },
    {
     "cell_type": "code",
     "collapsed": false,
     "input": [
      "%pylab qt\n",
      "#nari\u0161imo graf RBF centrirane v (1,2) na kvadratu [-3,3]^2\n",
      "from mpl_toolkits.mplot3d import Axes3D\n",
      "fig = figure()\n",
      "ax = fig.gca(projection='3d')\n",
      "# use ax.plot_surface to plot the surface\n",
      "ax.plot_surface(x,y,Z)"
     ],
     "language": "python",
     "metadata": {},
     "outputs": []
    },
    {
     "cell_type": "code",
     "collapsed": false,
     "input": [],
     "language": "python",
     "metadata": {},
     "outputs": []
    },
    {
     "cell_type": "markdown",
     "metadata": {},
     "source": [
      "# Interpolacija neznane krivulje"
     ]
    },
    {
     "cell_type": "code",
     "collapsed": false,
     "input": [
      "# izberimo 10 to\u010dk na krivulji in eno to\u010dko v notranjosti\n",
      "%pylab qt\n",
      "\n",
      "plot([-1,1], [-1,1],'.')\n",
      "print(\"Please click 10 points on a curve\")\n",
      "tocke = array(ginput(10))\n",
      "show()"
     ],
     "language": "python",
     "metadata": {},
     "outputs": [
      {
       "output_type": "stream",
       "stream": "stdout",
       "text": [
        "Populating the interactive namespace from numpy and matplotlib\n",
        "Please click 10 points on a curve"
       ]
      },
      {
       "output_type": "stream",
       "stream": "stdout",
       "text": [
        "\n"
       ]
      },
      {
       "output_type": "stream",
       "stream": "stderr",
       "text": [
        "/usr/lib/pymodules/python2.7/matplotlib/backend_bases.py:2280: MatplotlibDeprecationWarning: Using default event loop until function specific to this GUI is implemented\n",
        "  warnings.warn(str, mplDeprecation)\n"
       ]
      }
     ],
     "prompt_number": 1
    },
    {
     "cell_type": "code",
     "collapsed": false,
     "input": [
      "figure(1)\n",
      "# \u0161e to\u010dko v notranjosti\n",
      "plot(tocke.T[0], tocke.T[1],'o')\n",
      "noter = array(ginput(1))\n",
      "show()\n",
      "close(1)"
     ],
     "language": "python",
     "metadata": {},
     "outputs": [],
     "prompt_number": 7
    },
    {
     "cell_type": "code",
     "collapsed": false,
     "input": [
      "noter"
     ],
     "language": "python",
     "metadata": {},
     "outputs": [
      {
       "metadata": {},
       "output_type": "pyout",
       "prompt_number": 8,
       "text": [
        "array([[-0.13225806, -0.15833333]])"
       ]
      }
     ],
     "prompt_number": 8
    },
    {
     "cell_type": "code",
     "collapsed": false,
     "input": [
      "%pylab inline\n",
      "plot(tocke.T[0], tocke.T[1],'ob')\n",
      "plot(noter[0,0], noter[0,1],'or')\n",
      "show()"
     ],
     "language": "python",
     "metadata": {},
     "outputs": [
      {
       "output_type": "stream",
       "stream": "stdout",
       "text": [
        "Populating the interactive namespace from numpy and matplotlib\n"
       ]
      },
      {
       "metadata": {},
       "output_type": "display_data",
       "png": "[encoded data removed]",
       "text": [
        "<matplotlib.figure.Figure at 0x41f3050>"
       ]
      }
     ],
     "prompt_number": 15
    },
    {
     "cell_type": "code",
     "collapsed": false,
     "input": [
      "hstack?\n",
      "x = vstack((tocke,noter))\n"
     ],
     "language": "python",
     "metadata": {},
     "outputs": [
      {
       "metadata": {},
       "output_type": "pyout",
       "prompt_number": 22,
       "text": [
        "array([[-0.46774194, -0.61458333],\n",
        "       [-0.7016129 , -0.27604167],\n",
        "       [-0.58870968,  0.11979167],\n",
        "       [-0.00403226,  0.125     ],\n",
        "       [ 0.14919355,  0.79166667],\n",
        "       [ 0.52822581,  0.34375   ],\n",
        "       [ 0.70967742, -0.23958333],\n",
        "       [ 0.33064516, -0.30208333],\n",
        "       [ 0.125     , -0.78645833],\n",
        "       [-0.16935484, -0.52083333],\n",
        "       [-0.13225806, -0.15833333]])"
       ]
      }
     ],
     "prompt_number": 22
    },
    {
     "cell_type": "code",
     "collapsed": false,
     "input": [],
     "language": "python",
     "metadata": {},
     "outputs": []
    }
   ],
   "metadata": {}
  }
 ]
}