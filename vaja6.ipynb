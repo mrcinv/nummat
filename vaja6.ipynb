{
 "metadata": {
  "name": ""
 },
 "nbformat": 3,
 "nbformat_minor": 0,
 "worksheets": [
  {
   "cells": [
    {
     "cell_type": "markdown",
     "metadata": {},
     "source": [
      "#Interpolacija s Hermitovimi zlepki\n"
     ]
    },
    {
     "cell_type": "markdown",
     "metadata": {},
     "source": [
      "Podano imamo tabelo vrednosti in odvodov neznane funkcije $f$\n",
      "$$\\begin{array}{c|cccc}\n",
      "x & x_1 & x_2 &\\ldots & x_n\\\\ \\hline\n",
      "f(x) & y_1 & y_2 &\\ldots & y_n\\\\ \\hline\n",
      "f'(x) & dy_1 & dy_2 &\\ldots & dy_n\\\\\n",
      "\\end{array}$$\n",
      "Podatke iz zgornje tabele \u017eelimo interpolirati s polinomskim zlepkom. To pomeni, da vrednosti funkcije in  odvodov na vsakem od intervalov $[x_i,x_{i+1}]$ interpoliramo z drugim polinomom. Potrbujemo polinom stopnje 3. Ker imamo poleg vrednosti funkcije podane \u0161e odvode, bo zlepek avtomati\u010dno zvezno odvedljiv (razreda $\\mathcal{C}^1$)."
     ]
    },
    {
     "cell_type": "markdown",
     "metadata": {},
     "source": [
      "## Primer\n",
      "Poglejmo si najprej primer\n",
      "\n",
      "$$\\begin{array}{c|ccc}\n",
      "x & 0 & 1 & 2 \\\\ \\hline\n",
      "f(x) & 1 & 3 & 2\\\\ \\hline\n",
      "f'(x) & 1 & 0 & -1\\\\\n",
      "\\end{array}$$ "
     ]
    },
    {
     "cell_type": "code",
     "collapsed": false,
     "input": [
      "%config InlineBackend.close_figures=False \n",
      "figure(\"Primer\")\n",
      "x=array([0, 1, 2])\n",
      "y=array([1,3, 2])\n",
      "dy=array([1,0,-1])\n",
      "plot(x,y,'*')\n",
      "# tangente\n",
      "dx = 0.2\n",
      "for i in range(len(x)):\n",
      "    t = x[i]+array([-dx,dx])\n",
      "    f = y[i]+dy[i]*array([-dx,dx])\n",
      "    plot(t,f,'g')\n",
      "ylim((0.5,3.5))\n",
      "fig = gcf()"
     ],
     "language": "python",
     "metadata": {},
     "outputs": [
      {
       "metadata": {},
       "output_type": "display_data",
       "png": "[encoded data removed]",
       "text": [
        "<matplotlib.figure.Figure at 0x59238d0>"
       ]
      }
     ],
     "prompt_number": 144
    },
    {
     "cell_type": "markdown",
     "metadata": {},
     "source": [
      "Potrebujemo dva polinoma $p_1$ na $[0,1]$ in $p_2$ na $[1,2]$. Koeficiente poi\u0161\u010demo v Newtonovi bazi\n",
      "\n",
      "$$\\{1, x-x_1, (x-x_1)^2,(x-x_1)^2(x-x_2)\\} $$\n",
      "\n",
      "s tabelo deljenih diferenc. Pri tem to\u010dke, v katerih so podani odvodi, \u0161tejemo dvojno in namesto diferenc vstavimo kar prve odvode. Tako za na\u0161 primer dobimo za\u010detno tabelo\n",
      "\n",
      "$$\\begin{array}{c|cc}\n",
      "x & f & [f,f] \\\\ \\hline\n",
      "0 & 1 & 1\\\\\n",
      "0 & 1 & \\\\\n",
      "1 & 3 & 0\\\\\n",
      "1 & 3 & \\\\\n",
      "2 & 2 & -1\\\\\n",
      "2 & 2 & \\\\\n",
      "\\end{array}$$\n",
      "\n",
      "Ker i\u0161\u010demo kubi\u010dne polinome, je dovolj, \u010de tabelo izra\u010dunamo do 3. diference \n",
      "$$\\begin{array}{c|cccc}\n",
      "x & f & [f,f] & [f,f,f] & [f,f,f,f]\\\\ \\hline\n",
      "0 & 1 &  1 &  1 & -3\\\\ \\hline\n",
      "0 & 1 &  2 & -2 & \\\\\n",
      "1 & 3 &  0 & -1 & 1\\\\ \\hline\n",
      "1 & 3 & -1 &  0 & \\\\\n",
      "2 & 2 & -1 &    &\\\\\n",
      "2 & 2 &    &    & &\\\\\n",
      "\\end{array}$$\n",
      "\n",
      "Koeficienti interpolacijskih polinoma sta podana v 1. in 3. vrstici"
     ]
    },
    {
     "cell_type": "code",
     "collapsed": false,
     "input": [
      "figure(\"Primer\")\n",
      "t = linspace(0,1)\n",
      "plot(t,1 + t + t**2 - 3*t**2*(t-1),'r')\n",
      "t = linspace(1,2)\n",
      "plot(t,3 - (t-1)**2 +(t-1)**2*(t-2),'b')"
     ],
     "language": "python",
     "metadata": {},
     "outputs": [
      {
       "metadata": {},
       "output_type": "pyout",
       "prompt_number": 145,
       "text": [
        "[<matplotlib.lines.Line2D at 0x60e52d0>]"
       ]
      },
      {
       "metadata": {},
       "output_type": "display_data",
       "png": "[encoded data removed]",
       "text": [
        "<matplotlib.figure.Figure at 0x59238d0>"
       ]
      }
     ],
     "prompt_number": 145
    },
    {
     "cell_type": "code",
     "collapsed": false,
     "input": [
      "close(gcf())"
     ],
     "language": "python",
     "metadata": {},
     "outputs": [],
     "prompt_number": 146
    },
    {
     "cell_type": "markdown",
     "metadata": {},
     "source": [
      "Napi\u0161emo sedaj program, ki izra\u010duna koeficiente polinomskega zlepka"
     ]
    },
    {
     "cell_type": "code",
     "collapsed": false,
     "input": [
      "def hermite(x,y,dy):\n",
      "    \"\"\"Funkcija izra\u010duna interpolacijski polinom v Newtonovi bazi 1,x-xi,(x-x[i])(x-x[i+1]), (x-x[i])^2(x-x[i+1])\n",
      "    za vsak interval [x[i],x[i+1]].\n",
      "    x ... tabela x-ov\n",
      "    y ... tabela funkcijskih vrednosti\n",
      "    dy ... tabela vrednosti odvoda\n",
      "    Rezultat:\n",
      "    S ... tabela s koeficeinti zlepka\n",
      "    \"\"\"\n",
      "    n = len(x)\n",
      "    S = zeros((n-1,4))\n",
      "    # sestavimo tabelo deljenih diferenc\n",
      "    d = zeros((2*n,5))\n",
      "    d[::2,0] = x; d[1::2,0] = x\n",
      "    d[::2,1] = y; d[1::2,1] = y\n",
      "    d[::2,2] = dy\n",
      "    # prve diference\n",
      "    d[1:-1:2,2] = (d[2::2,1] - d[1:-1:2,1])/(d[2:-1:2,0] - d[1:-2:2,0])\n",
      "    # druge diference\n",
      "    d[:-2,3] = (d[1:-1,2] - d[0:-2,2])/(d[2:,0] - d[:-2,0])\n",
      "    # tretje diference, vsako drugo spustimo, ker nas ne zanima\n",
      "    d[:-2:2,4] = (d[1:-1:2,3] - d[:-2:2,3])/(d[3::2,0]-d[:-2:2,0])\n",
      "    # koeficienti so v vsaki drugi vrstici\n",
      "    S = d[:-2:2,1:]\n",
      "    return (S,d)"
     ],
     "language": "python",
     "metadata": {},
     "outputs": [],
     "prompt_number": 201
    },
    {
     "cell_type": "code",
     "collapsed": false,
     "input": [
      "# preverimo delovanje za na\u0161 primer\n",
      "S,d=hermite(x,y,dy)\n",
      "print d\n",
      "print S"
     ],
     "language": "python",
     "metadata": {},
     "outputs": [
      {
       "output_type": "stream",
       "stream": "stdout",
       "text": [
        "[[ 0.  1.  1.  1. -3.]\n",
        " [ 0.  1.  2. -2.  0.]\n",
        " [ 1.  3.  0. -1.  1.]\n",
        " [ 1.  3. -1.  0.  0.]\n",
        " [ 2.  2. -1.  0.  0.]\n",
        " [ 2.  2.  0.  0.  0.]]\n",
        "[[ 1.  1.  1. -3.]\n",
        " [ 3.  0. -1.  1.]]\n"
       ]
      }
     ],
     "prompt_number": 202
    },
    {
     "cell_type": "markdown",
     "metadata": {},
     "source": [
      "Potrebujemo \u0161e funkcijo, ki izra\u010duna vrednosti interpolacijskega zlepka"
     ]
    },
    {
     "cell_type": "code",
     "collapsed": false,
     "input": [
      "def hermite_value(t,x,S):\n",
      "    \"\"\"Funkcija izra\u010duna vrednost Hermitovega zlepka v to\u010dki t. Zlepek je podan v to\u010dkah x in s koeficienti S v\n",
      "    Newtonovi bazi 1, x-x[i], (x-x[i])**2,(x-x[i])**2(x-x[i+1])\"\"\"\n",
      "    y = NaN*ones_like(t)\n",
      "    # ugotovimo, na katerem intervalu t le\u017ei\n",
      "    for i in range(len(x)-1):\n",
      "        idx = where((x[i]<=t)&(t<=x[i+1]))\n",
      "        # Newtonova baza\n",
      "        nb = vstack((ones_like(t[idx]),\n",
      "                     t[idx]-x[i],\n",
      "                     (t[idx]-x[i])**2,\n",
      "                     (t[idx]-x[i])**2*(t[idx]-x[i+1])))\n",
      "        y[idx] = dot(S[i,:],nb) \n",
      "    return y"
     ],
     "language": "python",
     "metadata": {},
     "outputs": [],
     "prompt_number": 210
    },
    {
     "cell_type": "code",
     "collapsed": false,
     "input": [
      "x=arange(5)\n",
      "y=array([1,3,2,3,2])\n",
      "dy=array([1,-1,1,-1,1])\n",
      "plot(x,y,'*')\n",
      "# tangente\n",
      "dx = 0.2\n",
      "for i in range(5):\n",
      "    t = x[i]+array([-dx,dx])\n",
      "    f = y[i]+dy[i]*array([-dx,dx])\n",
      "    plot(t,f)\n",
      "t = linspace(0,4)\n",
      "S,d = hermite(x,y,dy)\n",
      "f = hermite_value(t,x,S)\n",
      "plot(t,f,'b')"
     ],
     "language": "python",
     "metadata": {},
     "outputs": [
      {
       "metadata": {},
       "output_type": "pyout",
       "prompt_number": 211,
       "text": [
        "[<matplotlib.lines.Line2D at 0x63ef350>]"
       ]
      },
      {
       "metadata": {},
       "output_type": "display_data",
       "png": "[encoded data removed]",
       "text": [
        "<matplotlib.figure.Figure at 0x611a490>"
       ]
      }
     ],
     "prompt_number": 211
    },
    {
     "cell_type": "markdown",
     "metadata": {},
     "source": [
      "Obe funkciji zdru\u017eimo v eno, ki vrne funkcijo."
     ]
    },
    {
     "cell_type": "code",
     "collapsed": false,
     "input": [
      "def hermitov_zlepek(x,y,dy):\n",
      "    \"\"\"Vrne funkcijo, ki izra\u010duna vrednosti zlepka\"\"\"\n",
      "    S,d = hermite(x,y,dy)\n",
      "    return lambda t: hermite_value(t,x,S)"
     ],
     "language": "python",
     "metadata": {},
     "outputs": [],
     "prompt_number": 212
    },
    {
     "cell_type": "code",
     "collapsed": false,
     "input": [
      "#poskusimo \u0161e s sinusom\n",
      "subplot(2,1,1)\n",
      "x = linspace(0,2*pi,5)\n",
      "y = sin(x)\n",
      "dy = cos(x)\n",
      "plot(x,y,'o')\n",
      "t=linspace(0,2*pi)\n",
      "h = hermitov_zlepek(x,y,dy)\n",
      "plot(t,h(t),'b')\n",
      "title(\"Sinus interpoliran s Hermitovim zlepkom\")\n",
      "subplot(2,1,2)\n",
      "plot(t,sin(t)-h(t))\n",
      "title(\"Napaka interpolacije\")"
     ],
     "language": "python",
     "metadata": {},
     "outputs": [
      {
       "metadata": {},
       "output_type": "pyout",
       "prompt_number": 221,
       "text": [
        "<matplotlib.text.Text at 0x73d5a50>"
       ]
      },
      {
       "metadata": {},
       "output_type": "display_data",
       "png": "[encoded data removed]",
       "text": [
        "<matplotlib.figure.Figure at 0x6833110>"
       ]
      }
     ],
     "prompt_number": 221
    },
    {
     "cell_type": "code",
     "collapsed": false,
     "input": [],
     "language": "python",
     "metadata": {},
     "outputs": []
    }
   ],
   "metadata": {}
  }
 ]
}