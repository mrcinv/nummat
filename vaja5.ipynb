{
 "metadata": {
  "name": ""
 },
 "nbformat": 3,
 "nbformat_minor": 0,
 "worksheets": [
  {
   "cells": [
    {
     "cell_type": "markdown",
     "metadata": {},
     "source": [
      "# Lastni vektorji Laplaceove matrike\n",
      "Poi\u0161\u010di prvih nekaj lastnih vektorjev matrike\n",
      "\n",
      "$$L_n=\\begin{bmatrix} \n",
      "-2 & 1& 0 &\\ldots& 0\\\\\n",
      "1 & -2& 1 &\\ddots&\\vdots\\\\\n",
      "0 & \\ddots &\\ddots& \\ddots &0\\\\\n",
      "0 &\\ldots & 1&-2&1\n",
      "\\end{bmatrix}$$\n",
      "\n",
      "z uporabo poten\u010dne metode in QR razcepa. "
     ]
    },
    {
     "cell_type": "code",
     "collapsed": false,
     "input": [],
     "language": "python",
     "metadata": {},
     "outputs": []
    },
    {
     "cell_type": "markdown",
     "metadata": {},
     "source": [
      "# Napaka interpolacije\n",
      "Funkcijo $\\sin(x)$ tabeliramo v ekvidistan\u010dnih to\u010dkah $x_i=\\frac{i}{10};\\quad i=1,2,\\ldots$. Oceni napako, ki jo naredimo, \u010de vrednosti funkcije $\\sin$ ra\u010dunamo z linearno interpolacijo med to\u010dkami $x_i$. Kaj pa \u010de uporabimo kvadratno interpolacijo?"
     ]
    },
    {
     "cell_type": "code",
     "collapsed": false,
     "input": [],
     "language": "python",
     "metadata": {},
     "outputs": []
    },
    {
     "cell_type": "markdown",
     "metadata": {},
     "source": [
      "Maksimum tabelirane funkcije lahko poi\u0161\u010demo z interpolacijo s kvadratno funkcijo. Koliko naj bo razmik med sosednjima to\u010dkama v tabeli, \u010de \u017eelimo maksimum funkcije $f(x)=e^{-x^2}+\\sin(x)$ na intervalu $[0,1]$ izra\u010dunati na ta na\u010din na 10 decimalk natan\u010dno."
     ]
    },
    {
     "cell_type": "code",
     "collapsed": false,
     "input": [
      "x = linspace(0,3)\n",
      "f = lambda x: exp(-x**2)+sin(x)\n",
      "plot(x,f(x))"
     ],
     "language": "python",
     "metadata": {},
     "outputs": [
      {
       "metadata": {},
       "output_type": "pyout",
       "prompt_number": 1,
       "text": [
        "[<matplotlib.lines.Line2D at 0x27eb850>]"
       ]
      },
      {
       "metadata": {},
       "output_type": "display_data",
       "png": "[encoded data removed]",
       "text": [
        "<matplotlib.figure.Figure at 0x26f5050>"
       ]
      }
     ],
     "prompt_number": 1
    },
    {
     "cell_type": "markdown",
     "metadata": {},
     "source": [
      "Ni\u010dlo neznane funkcije \u017eelimo izra\u010dunati na 10 decimalk natan\u010dno z uporabo kubi\u010dne inverzne interpolacije na ekvidistan\u010dni tabeli. Koliko mora biti razmik med to\u010dkami $h$, \u010de vemo, da so vsi odvodi omejeni z $1$. Uporabi to metodo za izra\u010dun $\\pi$ s pomo\u010djo funkcije $\\sin$."
     ]
    },
    {
     "cell_type": "code",
     "collapsed": false,
     "input": [],
     "language": "python",
     "metadata": {},
     "outputs": []
    }
   ],
   "metadata": {}
  }
 ]
}