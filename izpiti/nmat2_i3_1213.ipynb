{
 "metadata": {
  "name": ""
 },
 "nbformat": 3,
 "nbformat_minor": 0,
 "worksheets": [
  {
   "cells": [
    {
     "cell_type": "markdown",
     "metadata": {},
     "source": [
      "### 1. naloga\n",
      "Za Hermitovo ena\u010dbo  \n",
      "\n",
      "<a name=\"eq:hermite\">\n",
      "$$y''-2xy'+2y=0 $$\n",
      "</a>\n",
      "\n",
      "je ena od re\u0161itev polinom $y_{1}(x)=x$. Naj bo $y_{2}(x)$\n",
      "  re\u0161itev [Hermitove ena\u010dbe](#eq:hermite), ki je neodvisna od $y_{1}$\n",
      "  in zado\u0161\u010da za\u010detnemu pogoju \n",
      "  $$y_{2}(0)=1,\\quad y_{2}'(0)=0.$$\n",
      " Poi\u0161\u010di pribli\u017eek za $y_{2}(1)$\n",
      "  z metodo Runge-Kutta reda 2\n",
      "  \\begin{eqnarray}\n",
      "  {\\bf k}_{1}\t&=&\thf(x_{n},{\\bf y}_{n})\\\\\n",
      "{\\bf k}_{2}\t&  = &\thf(x_{n+1},{\\bf y}_{n}+{\\bf k}_{1})\\\\\n",
      "{\\bf y}_{n+1}\t&= &\t{\\bf y}_{n}+\\frac{{\\bf k}_{1}+{\\bf k}_{2}}{2}\n",
      "\\end{eqnarray}\n",
      " s koraki $h=0.5$\n",
      "  in $h=0.1$. \n",
      "  \n",
      "  Poi\u0161\u010dite pribli\u017eek za re\u0161itev robnega problema za Hermitovo ena\u010dbo z robnimi pogoji $y(0)=y(1)=1$\n",
      " v to\u010dkah $x=0,0.1,0.2,\\ldots,0.9,1$. \n",
      " \n",
      " Namig: Splo\u0161na re\u0161itev ena\u010dbe [Hermitove ena\u010dbe](#eq:hermite) je $c_{1}y_{1}(x)+c_{2}y_{2}(x).$\n"
     ]
    },
    {
     "cell_type": "markdown",
     "metadata": {},
     "source": [
      "### Re\u0161itev\n",
      "Najprej prevedemo [ena\u010dbo](#eq:hermite) v sistem dveh ena\u010db 1. reda z vpeljavo novih spremenljivk $z_1=y$ in $z_2 = y'$\n",
      "\n",
      "\\begin{eqnarray}\n",
      "z_1'&=& z_2\\\\\n",
      "z_2'&=& 2xz_2-2z_1\n",
      "\\end{eqnarray}\n",
      "\n",
      "in v vektorsko obliko\n",
      "\n",
      "$$\\mathbf{z}'=\\begin{bmatrix}z_1'\\\\z_2'\\end{bmatrix} = \\begin{bmatrix}z_2\\\\2xz_2-2z_1\\end{bmatrix}=\n",
      "\\begin{bmatrix}0 & 1\\\\-2 & 2x\\end{bmatrix}\\mathbf{z}=f(x,\\mathbf{z})$$\n",
      "\n",
      "ki jo lahko uporabimo v formulah za RK2.\n"
     ]
    },
    {
     "cell_type": "code",
     "collapsed": false,
     "input": [
      "# funkcija desne strani ena\u010dbe\n",
      "dz = lambda x,z: array([[0,1],[-2,2*x]]).dot(z)"
     ],
     "language": "python",
     "metadata": {},
     "outputs": [],
     "prompt_number": 1
    },
    {
     "cell_type": "code",
     "collapsed": false,
     "input": [
      "z0 = array([1,0]) # za\u010detni pogoji\n",
      "h = 0.5\n",
      "x = 0"
     ],
     "language": "python",
     "metadata": {},
     "outputs": [],
     "prompt_number": 2
    },
    {
     "cell_type": "code",
     "collapsed": false,
     "input": [
      "k1 = h*dz(x,z0)\n",
      "k2 = h*dz(x+h,z0+k1)\n",
      "z1 = z0 + (k1+k2)/2\n",
      "print \"Pribli\u017eek v x=0.5\", z1"
     ],
     "language": "python",
     "metadata": {},
     "outputs": [
      {
       "output_type": "stream",
       "stream": "stdout",
       "text": [
        "Pribli\u017eek v x=0.5 [ 0.75 -1.25]\n"
       ]
      }
     ],
     "prompt_number": 3
    },
    {
     "cell_type": "code",
     "collapsed": false,
     "input": [
      "k1 = h*dz(x,z1)\n",
      "k2 = h*dz(x+h,z1+k1)\n",
      "z2 = z1 + (k1+k2)/2\n",
      "print \"Pribli\u017eek v x=1\", z2"
     ],
     "language": "python",
     "metadata": {},
     "outputs": [
      {
       "output_type": "stream",
       "stream": "stdout",
       "text": [
        "Pribli\u017eek v x=1 [-0.0625 -2.1875]\n"
       ]
      }
     ],
     "prompt_number": 4
    },
    {
     "cell_type": "code",
     "collapsed": false,
     "input": [
      "# za h=0.1 uporabimo raje for zanko\n",
      "z = array([1,0]) # za\u010detni pogoji\n",
      "h = 0.1\n",
      "x = 0\n",
      "for i in range(10):\n",
      "    k1 = h*dz(x,z)\n",
      "    k2 = h*dz(x+h,z+k1)\n",
      "    z = z + (k1+k2)/2\n",
      "    x = x+h\n",
      "    print \"Pribli\u017eek v x=%1.2f:\" % x,z"
     ],
     "language": "python",
     "metadata": {},
     "outputs": [
      {
       "output_type": "stream",
       "stream": "stdout",
       "text": [
        "Pribli\u017eek v x=0.10: [ 0.99  -0.202]\n",
        "Pribli\u017eek v x=0.20: [ 0.959698  -0.4080808]\n",
        "Pribli\u017eek v x=0.30: [ 0.90847678 -0.62259152]\n",
        "Pribli\u017eek v x=0.40: [ 0.83526508 -0.8504044 ]\n",
        "Pribli\u017eek v x=0.50: [ 0.73847038 -1.09724403]\n",
        "Pribli\u017eek v x=0.60: [ 0.61587505 -1.37010762]\n",
        "Pribli\u017eek v x=0.70: [ 0.46448489 -1.6778267 ]\n",
        "Pribli\u017eek v x=0.80: [ 0.28031258 -2.03184283]\n",
        "Pribli\u017eek v x=0.90: [ 0.05807043 -2.44730437]\n",
        "Pribli\u017eek v x=1.00: [-0.20926645 -2.94464613]\n"
       ]
      }
     ],
     "prompt_number": 5
    },
    {
     "cell_type": "markdown",
     "metadata": {},
     "source": [
      "Ker je splo\u0161na re\u0161itev linearna kombinacija $y_1=x$ in $y_2$, je dovolj poiskati konstanti $C$ in $D$ v razvoju\n",
      "$$y=Cy_1+Dy_2$$\n",
      "\u010ce v zgornjo ena\u010dbo vstavimo vrednosti funkcije v $x=0$ in $x=1$, dobimo sistem dveh ena\u010db\n",
      "\n",
      "\\begin{eqnarray}\n",
      "1 &=& 0+D\\\\\n",
      "1 &=& C-Dy_2(1)\n",
      "\\end{eqnarray}\n",
      "\n",
      "in vrednost konstante $D=1$ in $C=1+y_2(1)=1-0.20926645$"
     ]
    },
    {
     "cell_type": "code",
     "collapsed": false,
     "input": [
      "# ponovimo vajo, le da si zapomnimo y in x\n",
      "z = array([1,0]) # za\u010detni pogoji\n",
      "h = 0.1\n",
      "x = 0\n",
      "xx = [x]\n",
      "zz = [z]\n",
      "for i in range(10):\n",
      "    k1 = h*dz(x,z)\n",
      "    k2 = h*dz(x+h,z+k1)\n",
      "    z = z + (k1+k2)/2\n",
      "    x = x+h\n",
      "    xx.append(x)\n",
      "    zz.append(z)\n",
      "    print \"Pribli\u017eek v x=%1.2f:\" % x,z"
     ],
     "language": "python",
     "metadata": {},
     "outputs": [
      {
       "output_type": "stream",
       "stream": "stdout",
       "text": [
        "Pribli\u017eek v x=0.10: [ 0.99  -0.202]\n",
        "Pribli\u017eek v x=0.20: [ 0.959698  -0.4080808]\n",
        "Pribli\u017eek v x=0.30: [ 0.90847678 -0.62259152]\n",
        "Pribli\u017eek v x=0.40: [ 0.83526508 -0.8504044 ]\n",
        "Pribli\u017eek v x=0.50: [ 0.73847038 -1.09724403]\n",
        "Pribli\u017eek v x=0.60: [ 0.61587505 -1.37010762]\n",
        "Pribli\u017eek v x=0.70: [ 0.46448489 -1.6778267 ]\n",
        "Pribli\u017eek v x=0.80: [ 0.28031258 -2.03184283]\n",
        "Pribli\u017eek v x=0.90: [ 0.05807043 -2.44730437]\n",
        "Pribli\u017eek v x=1.00: [-0.20926645 -2.94464613]\n"
       ]
      }
     ],
     "prompt_number": 6
    },
    {
     "cell_type": "code",
     "collapsed": false,
     "input": [
      "C=1-zz[-1][0]\n",
      "y = array(zz)[:,0]+C*array(xx)\n",
      "plot(xx,y,'*-')"
     ],
     "language": "python",
     "metadata": {},
     "outputs": [
      {
       "metadata": {},
       "output_type": "pyout",
       "prompt_number": 7,
       "text": [
        "[<matplotlib.lines.Line2D at 0x7f68b548fcd0>]"
       ]
      },
      {
       "metadata": {},
       "output_type": "display_data",
       "png": "[encoded data removed]",
       "text": [
        "<matplotlib.figure.Figure at 0x7f68b5d77390>"
       ]
      }
     ],
     "prompt_number": 7
    },
    {
     "cell_type": "markdown",
     "metadata": {},
     "source": [
      "### 2. naloga\n",
      "Naj bo A\n",
      "  pozitivno definitna simetri\u010dna matrika, za katero smo \u017ee izra\u010dunali razcep Choleskega\n",
      "  $$A=R^{T}R.$$\n",
      " Napi\u0161i u\u010dinkovit algoritem za iskanje najmanj\u0161e lastne vrednosti in pripadajo\u010dega lastnega vektorja matrike $A$\n",
      "  z inverzno poten\u010dno metodo. Koliko osnovnih operacij je potrebnih za vsak korak? Z algoritmom poi\u0161\u010di pribli\u017eek za najmanj\u0161o lastno vrednost in pripadajo\u010di lastni vektor $20\\times20$\n",
      "  matrike z elementi\n",
      "  $$a_{ij}=ij\\exp(-|i-j|).$$\n",
      " "
     ]
    },
    {
     "cell_type": "markdown",
     "metadata": {},
     "source": [
      "### Re\u0161itev\n",
      "\u010ce \u017ee imamo razcep $A=R^TR$, potem lahko re\u0161itev sistema poi\u0161\u010demo z re\u0161evanjem dveh trikotnih sistemov\n",
      "\n",
      "\\begin{eqnarray}\n",
      "R^Tz&=&b\\\\\n",
      "Rx &= &z\n",
      "\\end{eqnarray}\n",
      "\n",
      "Inverzna iteracija tako na vsakem koraku izvede naslednjo kodo\n",
      "\n",
      "\\begin{eqnarray}\n",
      "R^Tz&=&x_{n-1}\\\\\n",
      "Rx &= &z\\\\\n",
      "\\lambda_i &=& x^Tx_{n-1}\\\\\n",
      "x_n &=& \\frac{x}{||x||_2}\n",
      "\\end{eqnarray}"
     ]
    },
    {
     "cell_type": "code",
     "collapsed": false,
     "input": [
      "# sestavimo matriko\n",
      "A= zeros((20,20))\n",
      "for i in range(20):\n",
      "    for j in range(20):\n",
      "        A[i,j]=(i+1)*(j+1)*exp(-abs(i-j))"
     ],
     "language": "python",
     "metadata": {},
     "outputs": [],
     "prompt_number": 35
    },
    {
     "cell_type": "code",
     "collapsed": false,
     "input": [
      "R=linalg.cholesky(A)"
     ],
     "language": "python",
     "metadata": {},
     "outputs": [],
     "prompt_number": 39
    },
    {
     "cell_type": "code",
     "collapsed": false,
     "input": [
      "from scipy.linalg import solve_triangular \n",
      "xp = ones((20,))\n",
      "print \"lastna vrednost\\t napaka\"\n",
      "for i in range(20):\n",
      "    z = solve_triangular(R.T,xp)\n",
      "    x  = solve_triangular(R,z)\n",
      "    lam = x.dot(xp)\n",
      "    napaka = norm(x-lam*xp)\n",
      "    xp = x/norm(x)\n",
      "    print \"%1.10f1\\t%1.10f\"%(lam,napaka)"
     ],
     "language": "python",
     "metadata": {},
     "outputs": [
      {
       "output_type": "stream",
       "stream": "stdout",
       "text": [
        "lastna vrednost\t napaka\n",
        "1.04127079441\t4.4638168402\n",
        "0.80753035391\t0.2111918101\n",
        "0.96212064321\t0.0592459197\n",
        "0.99046856151\t0.0164937610\n",
        "0.99737772201\t0.0046675601\n",
        "0.99925565001\t0.0013347675\n",
        "0.99978631681\t0.0003838530\n",
        "0.99993839541\t0.0001107012\n",
        "0.99998220961\t0.0000319692\n",
        "0.99999485891\t0.0000092383\n",
        "0.99999851391\t0.0000026704\n",
        "0.99999957041\t0.0000007720\n",
        "0.99999987581\t0.0000002232\n",
        "0.99999996411\t0.0000000645\n",
        "0.99999998961\t0.0000000187\n",
        "0.99999999701\t0.0000000054\n",
        "0.99999999911\t0.0000000016\n",
        "0.99999999971\t0.0000000005\n",
        "0.99999999991\t0.0000000001\n",
        "1.00000000001\t0.0000000000\n"
       ]
      }
     ],
     "prompt_number": 45
    },
    {
     "cell_type": "code",
     "collapsed": false,
     "input": [],
     "language": "python",
     "metadata": {},
     "outputs": []
    }
   ],
   "metadata": {}
  }
 ]
}