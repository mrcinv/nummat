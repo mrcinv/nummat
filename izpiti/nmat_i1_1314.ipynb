{
 "metadata": {
  "name": ""
 },
 "nbformat": 3,
 "nbformat_minor": 0,
 "worksheets": [
  {
   "cells": [
    {
     "cell_type": "markdown",
     "metadata": {},
     "source": [
      "# 1. naloga\n",
      " Dan je za\u010detni problem za NDE  \n",
      "\\begin{equation}\n",
      "y''-\\frac{2}{x}y'+y=0;\\quad y_{1}(\\pi/2)=1,\\quad y_{1}'(\\pi/2)=0.%\\label{eq:hermite}\n",
      "\\end{equation}\n",
      "katerega re\u0161itev je \n",
      "\\begin{equation}\n",
      "y(x)=\\frac{2}{\\pi}(\\cos(x)+x\\sin(x)).%\\label{eq:resitev}\n",
      "\\end{equation} \n",
      "\n",
      " 1. Poi\u0161\u010di pribli\u017eek za $y(\\pi)$ z metodo prediktor-korektor s korakom $h=\\pi/4$. Za prediktor uporabi Eulerjevo metodo $y_{n+1}=y_n +hf(x_n,y_n)$ za korektor pa implicitno trapezno pravilo\n",
      "\\begin{equation*}\n",
      "y_{n+1}=y_n +\\frac{1}{2}h\\left((f(x_n,y_n)-f(x_{n+1},y_{n+1})\\right).\n",
      "\\end{equation*}\n",
      "Izra\u010dunaj globalno napako za $y(\\pi)$.  \n",
      "\n",
      " 2. Ali se napaka bistveno spremeni, \u010de uporabimo ve\u010d korakov iteracije \n",
      "za izra\u010dun korektorja?\n",
      " \n",
      " 3. Re\u0161itev problema (\\ref{eq:hermite}) ima na intervalu $[0,\\pi]$ ni\u010dlo. \n",
      "Zgolj z izra\u010dunanimi pribli\u017eki iz to\u010dke (a) \u010dimbolj natan\u010dno dolo\u010di \n",
      "ni\u010dlo? Pribli\u017eek primerjaj z ni\u010dlo, ki jo dobi\u0161 za to\u010dno re\u0161itvev \n",
      "(\\ref{eq:resitev})."
     ]
    },
    {
     "cell_type": "code",
     "collapsed": false,
     "input": [
      "import sympy as sym"
     ],
     "language": "python",
     "metadata": {},
     "outputs": [],
     "prompt_number": 1
    },
    {
     "cell_type": "code",
     "collapsed": false,
     "input": [
      "from IPython.display import HTML\n",
      "#sym.interactive.printing.init_printing(use_latex=True)"
     ],
     "language": "python",
     "metadata": {},
     "outputs": [],
     "prompt_number": 2
    },
    {
     "cell_type": "code",
     "collapsed": false,
     "input": [
      "x = sym.symbols('x')\n",
      "y = sym.Function('y')"
     ],
     "language": "python",
     "metadata": {},
     "outputs": [],
     "prompt_number": 3
    },
    {
     "cell_type": "code",
     "collapsed": false,
     "input": [
      "# preverimo, \u010de je y res re\u0161itev NDE\n",
      "y=2/sym.pi*(sym.cos(x)+x*sym.sin(x))\n",
      "sym.simplify(sym.Eq(y(x).diff(x,x)-2/x*y(x).diff(x)+y(x),0))"
     ],
     "language": "python",
     "metadata": {},
     "outputs": [
      {
       "metadata": {},
       "output_type": "pyout",
       "prompt_number": 4,
       "text": [
        "True"
       ]
      }
     ],
     "prompt_number": 4
    },
    {
     "cell_type": "code",
     "collapsed": false,
     "input": [
      "sym.plot(y,(x,pi/2,pi))"
     ],
     "language": "python",
     "metadata": {},
     "outputs": [
      {
       "metadata": {},
       "output_type": "display_data",
       "png": "[encoded data removed]",
       "text": [
        "<matplotlib.figure.Figure at 0x3ea0550>"
       ]
      },
      {
       "metadata": {},
       "output_type": "pyout",
       "prompt_number": 5,
       "text": [
        "<sympy.plotting.plot.Plot at 0x2ee7810>"
       ]
      }
     ],
     "prompt_number": 5
    },
    {
     "cell_type": "code",
     "collapsed": false,
     "input": [
      "y.diff(x)"
     ],
     "language": "python",
     "metadata": {},
     "outputs": [
      {
       "metadata": {},
       "output_type": "pyout",
       "prompt_number": 6,
       "text": [
        "2*x*cos(x)/pi"
       ]
      }
     ],
     "prompt_number": 6
    },
    {
     "cell_type": "code",
     "collapsed": false,
     "input": [
      "# sympy elemente spremenimo  v numeri\u010dne funkcije\n",
      "fun = sym.lambdify(x,y,\"math\")\n",
      "dfun = sym.lambdify(x,y.diff(x),\"math\")"
     ],
     "language": "python",
     "metadata": {},
     "outputs": [],
     "prompt_number": 7
    },
    {
     "cell_type": "code",
     "collapsed": false,
     "input": [
      "# poi\u0161\u010demo ni\u010dlo to\u010dne re\u0161itve\n",
      "x0=2.8\n",
      "for i in range(5):\n",
      "    x0=x0-fun(x0)/dfun(x0)\n",
      "    print x0\n",
      "nicla=x0"
     ],
     "language": "python",
     "metadata": {},
     "outputs": [
      {
       "output_type": "stream",
       "stream": "stdout",
       "text": [
        "2.79838697451\n",
        "2.79838604578\n",
        "2.79838604578\n",
        "2.79838604578\n",
        "2.79838604578\n"
       ]
      }
     ],
     "prompt_number": 8
    },
    {
     "cell_type": "code",
     "collapsed": false,
     "input": [
      "f = lambda y,x: array([[0,1],[-1,2/x]]).dot(y)\n",
      "prediktor = lambda f,x0,y0,h: y0 + h*f(y0,x0)\n",
      "korektor = lambda f,x0,y0,y1,h: y0 + h/2*(f(y0,x0)+f(y1,x0+h))\n",
      "y0 = array([1.,0.])\n",
      "x0 = pi/2\n",
      "h = pi/4\n",
      "y1 = prediktor(f,x0,y0,h)\n",
      "y1 = korektor(f,x0,y0,y1,h)\n",
      "x1 = x0+h\n",
      "HTML(u\"Pribli\u017eek v $3\\\\pi/4$ je %1.5f\" %y1[0])"
     ],
     "language": "python",
     "metadata": {},
     "outputs": [
      {
       "html": [
        "Pribli\u017eek v $3\\pi/4$ je 0.69157"
       ],
       "metadata": {},
       "output_type": "pyout",
       "prompt_number": 9,
       "text": [
        "<IPython.core.display.HTML at 0x3eeb1d0>"
       ]
      }
     ],
     "prompt_number": 9
    },
    {
     "cell_type": "code",
     "collapsed": false,
     "input": [
      "y2 = prediktor(f,x1,y1,h)\n",
      "y2 = korektor(f,x1,y1,y2,h)\n",
      "HTML(u\"Pribli\u017eek v $\\\\pi$ je %1.5f\" %y2[0])"
     ],
     "language": "python",
     "metadata": {},
     "outputs": [
      {
       "html": [
        "Pribli\u017eek v $\\pi$ je -0.61835"
       ],
       "metadata": {},
       "output_type": "pyout",
       "prompt_number": 10,
       "text": [
        "<IPython.core.display.HTML at 0x3ee4a10>"
       ]
      }
     ],
     "prompt_number": 10
    },
    {
     "cell_type": "code",
     "collapsed": false,
     "input": [
      "napaka = fun(pi)-y2[0]\n",
      "print \"Napaka: \", napaka"
     ],
     "language": "python",
     "metadata": {},
     "outputs": [
      {
       "output_type": "stream",
       "stream": "stdout",
       "text": [
        "Napaka:  -0.0182728515302\n"
       ]
      }
     ],
     "prompt_number": 11
    },
    {
     "cell_type": "code",
     "collapsed": false,
     "input": [
      "# prediktor\n",
      "y1 = prediktor(f,x0,y0,h)\n",
      "# korektor\n",
      "for i in range(15):\n",
      "    y1 = korektor(f,x0,y0,y1,h)\n",
      "\n",
      "print \"%1.5f\" % y1[0]\n",
      "print \"Napaka: \", fun(pi/2)-y1[0]"
     ],
     "language": "python",
     "metadata": {},
     "outputs": [
      {
       "output_type": "stream",
       "stream": "stdout",
       "text": [
        "0.62427\n",
        "Napaka:  0.375725447606\n"
       ]
      }
     ],
     "prompt_number": 12
    },
    {
     "cell_type": "code",
     "collapsed": false,
     "input": [
      "# prediktor\n",
      "y2 = prediktor(f,x0+h,y1,h)\n",
      "# korektor\n",
      "for i in range(15):\n",
      "    y2 = korektor(f,x0+h,y1,y2,h)\n",
      "print \"%1.5f\" % y2[0]\n",
      "print \"Napaka: \", fun(pi)-y2[0]"
     ],
     "language": "python",
     "metadata": {},
     "outputs": [
      {
       "output_type": "stream",
       "stream": "stdout",
       "text": [
        "-0.45435\n",
        "Napaka:  -0.182273347312\n"
       ]
      }
     ],
     "prompt_number": 13
    },
    {
     "cell_type": "code",
     "collapsed": false,
     "input": [
      "# vzamemo bolj\u0161i pribli\u017eek\n",
      "y1 = prediktor(f,x0,y0,h)\n",
      "y1 = korektor(f,x0,y0,y1,h)\n",
      "x1 = x0+h\n",
      "y2 = prediktor(f,x1,y1,h)\n",
      "y2 = korektor(f,x1,y1,y2,h)\n",
      "x2 = x1+h"
     ],
     "language": "python",
     "metadata": {},
     "outputs": [],
     "prompt_number": 18
    },
    {
     "cell_type": "code",
     "collapsed": false,
     "input": [
      "#inverzna interpolacija\n",
      "y =  array([y0[0],y1[0],y2[0]],dtype=float)\n",
      "x = pi*linspace(1./2,1,3)\n",
      "p = polyfit(y,x,2)\n",
      "xn = polyval(p,0)\n",
      "print xn"
     ],
     "language": "python",
     "metadata": {},
     "outputs": [
      {
       "output_type": "stream",
       "stream": "stdout",
       "text": [
        "3.28529745475\n"
       ]
      }
     ],
     "prompt_number": 19
    },
    {
     "cell_type": "code",
     "collapsed": false,
     "input": [
      "plot(x,y,'o')\n",
      "t = linspace(y[0],y[2])\n",
      "plot(polyval(p,t),t)\n",
      "plot(xn,0,'r*')"
     ],
     "language": "python",
     "metadata": {},
     "outputs": [
      {
       "metadata": {},
       "output_type": "pyout",
       "prompt_number": 20,
       "text": [
        "[<matplotlib.lines.Line2D at 0x402df50>]"
       ]
      },
      {
       "metadata": {},
       "output_type": "display_data",
       "png": "[encoded data removed]",
       "text": [
        "<matplotlib.figure.Figure at 0x402d910>"
       ]
      }
     ],
     "prompt_number": 20
    },
    {
     "cell_type": "code",
     "collapsed": false,
     "input": [
      "# direktna interpolacija\n",
      "p = polyfit(x,y,2)\n",
      "t = linspace(pylab.pi/2,pylab.pi)\n",
      "pylab.plot(x,y,'*')\n",
      "pylab.plot(t,polyval(p,t),'-')\n",
      "yp = 2/pi*(cos(t)+t*sin(t))\n",
      "pylab.plot(t,yp,'r')\n",
      "xn=pylab.roots(p)[0]\n",
      "plot(xn,0,'ob')\n",
      "nicla-xn"
     ],
     "language": "python",
     "metadata": {},
     "outputs": [
      {
       "metadata": {},
       "output_type": "pyout",
       "prompt_number": 21,
       "text": [
        "-0.043326314110003761"
       ]
      },
      {
       "metadata": {},
       "output_type": "display_data",
       "png": "[encoded data removed]",
       "text": [
        "<matplotlib.figure.Figure at 0x4036850>"
       ]
      }
     ],
     "prompt_number": 21
    },
    {
     "cell_type": "markdown",
     "metadata": {},
     "source": [
      "S QR iteracijo poi\u0161\u010di lastne vrednosti in lastne vektorje matrike\n",
      "  \\begin{equation}\n",
      "    %\\label{eq:matrika}\n",
      "    A= \\begin{pmatrix}\n",
      "      1 & 2 & 3\\\\\n",
      "      2 & -1 & -2\\\\\n",
      "      3 & -2 & 3\n",
      "    \\end{pmatrix}.\n",
      "  \\end{equation}\n",
      "S poten\u010dno in inverzno poten\u010dno metodo izra\u010dunaj \u0161e lastni vektor za \n",
      "najve\u010djo in najmanj\u0161o lastno vrednost.\n",
      "\n",
      "Primerjaj \u0161tevilo potrebnih korakov iteracije za isto \n",
      "natan\u010dnost med poten\u010dno metodo in QR iteracijo. "
     ]
    },
    {
     "cell_type": "code",
     "collapsed": false,
     "input": [
      "A = array([[1, 2, 3], [2,-1,-2],[3,-2,3]])\n",
      "# QR iteracija\n",
      "S = A.copy()\n",
      "Q = eye(3)\n",
      "for i in range(59):\n",
      "    q,r = linalg.qr(S)\n",
      "    S = r.dot(q)\n",
      "    Q = Q.dot(q)"
     ],
     "language": "python",
     "metadata": {},
     "outputs": [],
     "prompt_number": 45
    },
    {
     "cell_type": "code",
     "collapsed": false,
     "input": [
      "# Shurova forma je diagonalna\n",
      "S"
     ],
     "language": "python",
     "metadata": {},
     "outputs": [
      {
       "metadata": {},
       "output_type": "pyout",
       "prompt_number": 46,
       "text": [
        "[[  5.20350392e+00  -3.02641981e-07  -9.21455089e-16] \n",
        " [ -3.02641981e-07  -3.88525983e+00   1.44828443e-15] \n",
        " [ -1.87672329e-28  -2.61600589e-21   1.68175591e+00]]"
       ]
      }
     ],
     "prompt_number": 46
    },
    {
     "cell_type": "code",
     "collapsed": false,
     "input": [
      "# preverimo, \u010de je A = QSQ^T\n",
      "Q.dot(S.dot(Q.T))"
     ],
     "language": "python",
     "metadata": {},
     "outputs": [
      {
       "metadata": {},
       "output_type": "pyout",
       "prompt_number": 38,
       "text": [
        " [[ 1.  2.  3.]\n",
        "  [ 2. -1. -2.]\n",
        " [ 3. -2.  3.]]"
       ]
      }
     ],
     "prompt_number": 38
    },
    {
     "cell_type": "code",
     "collapsed": false,
     "input": [
      "# lastni vektorji\n",
      "Q"
     ],
     "language": "python",
     "metadata": {},
     "outputs": [
      {
       "metadata": {},
       "output_type": "pyout",
       "prompt_number": 39,
       "text": [
        " [[ 0.54962849 -0.5599727  -0.61995088]\n",
        "  [-0.09054851  0.69778875 -0.71055741]\n",
        " [ 0.8304875   0.44667822  0.33281988]]"
       ]
      }
     ],
     "prompt_number": 39
    },
    {
     "cell_type": "code",
     "collapsed": false,
     "input": [
      "# poten\u010dna metoda\n",
      "x=ones(3)\n",
      "for i in range(60):\n",
      "    t = A.dot(x)\n",
      "    lam = x.dot(t)\n",
      "    x = t/norm(t)\n",
      "print \"Lastna vrednost %1.5f in lastni vektor\" %lam, x"
     ],
     "language": "python",
     "metadata": {},
     "outputs": [
      {
       "output_type": "stream",
       "stream": "stdout",
       "text": [
        "Lastna vrednost 5.20350 in lastni vektor [ 0.54962848 -0.0905485   0.83048751]\n"
       ]
      }
     ],
     "prompt_number": 65
    },
    {
     "cell_type": "code",
     "collapsed": false,
     "input": [
      "print \"napaka:\", norm(A.dot(x)-lam*x)"
     ],
     "language": "python",
     "metadata": {},
     "outputs": [
      {
       "output_type": "stream",
       "stream": "stdout",
       "text": [
        "napaka: 1.0052912582e-07\n"
       ]
      }
     ],
     "prompt_number": 66
    },
    {
     "cell_type": "code",
     "collapsed": false,
     "input": [
      "# inverzna poten\u010dna\n",
      "x = ones(3)\n",
      "for i in range(20):\n",
      "    t = solve(A,x)\n",
      "    lam = 1/(t.dot(x))\n",
      "    x = t/norm(t)\n",
      "print \"Lastna vrednost %1.5f in lastni vektor\" %lam, x"
     ],
     "language": "python",
     "metadata": {},
     "outputs": [
      {
       "output_type": "stream",
       "stream": "stdout",
       "text": [
        "Lastna vrednost 1.68176 in lastni vektor [ 0.61995087  0.71055743 -0.33281986]\n"
       ]
      }
     ],
     "prompt_number": 64
    },
    {
     "cell_type": "code",
     "collapsed": false,
     "input": [
      "print \"napaka: \",norm(A.dot(x)-lam*x)"
     ],
     "language": "python",
     "metadata": {},
     "outputs": [
      {
       "output_type": "stream",
       "stream": "stdout",
       "text": [
        "napaka:  1.0052912582e-07\n"
       ]
      }
     ],
     "prompt_number": 67
    }
   ],
   "metadata": {}
  }
 ]
}