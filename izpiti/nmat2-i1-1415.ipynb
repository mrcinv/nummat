{
 "cells": [
  {
   "cell_type": "markdown",
   "metadata": {},
   "source": [
    "# Izpit iz numerične matematike\n",
    " Ljubljana, 23. 6. 2015\n",
    "## Naloga 1\n",
    "\n",
    "Linearen sistem $n=2k$ enačb\n",
    "  \\begin{equation}\n",
    "    %\\label{eq:sistem}\n",
    "    2x_i+x_{n-i+1}=1.\\quad i=1,\\ldots,n\n",
    "  \\end{equation}\n",
    "\n",
    "1. Napišite razširjeno matriko za $n=4$ in rešitev sistema poiščite z LU razcepom.\n",
    "\n",
    "2. Za $n=20$ rešite sistem (\\ref{eq:sistem}) z Jacobijevo iteracijo\n",
    "      \\begin{equation*}\n",
    "        %\\label{eq:Jacobi}\n",
    "        x_i^{(k+1)} = \\frac{1}{a_{ii}}\\left(b_i-\\sum_{j\\not= i}a_{ij}x_j^{(k)}\\right).\n",
    "      \\end{equation*}\n",
    "      Koliko korakov iteracije potrebujemo za 3 pravilne decimalke, če za začetni približek izberemo vektor desnih strani? Koliko operacij potrebujemo za vsako iteracijo? "
   ]
  },
  {
   "cell_type": "code",
   "execution_count": 1,
   "metadata": {
    "collapsed": false
   },
   "outputs": [
    {
     "data": {
      "text/plain": [
       "A =\r\n",
       "\r\n",
       "   2   0   0   1\r\n",
       "   0   2   1   0\r\n",
       "   0   1   2   0\r\n",
       "   1   0   0   2\r\n",
       "\r\n"
      ]
     },
     "execution_count": 1,
     "metadata": {},
     "output_type": "execute_result"
    }
   ],
   "source": [
    "A=[2 0 0 1; 0 2 1 0; 0 1 2 0; 1 0 0 2]"
   ]
  },
  {
   "cell_type": "code",
   "execution_count": 2,
   "metadata": {
    "collapsed": false
   },
   "outputs": [
    {
     "data": {},
     "execution_count": 2,
     "metadata": {},
     "output_type": "execute_result"
    }
   ],
   "source": [
    "b = ones(4,1);"
   ]
  },
  {
   "cell_type": "code",
   "execution_count": 3,
   "metadata": {
    "collapsed": false
   },
   "outputs": [
    {
     "data": {
      "text/plain": [
       "L =\r\n",
       "\r\n",
       "   1.00000   0.00000   0.00000   0.00000\r\n",
       "   0.00000   1.00000   0.00000   0.00000\r\n",
       "   0.00000   0.50000   1.00000   0.00000\r\n",
       "   0.50000   0.00000   0.00000   1.00000\r\n",
       "\r\n",
       "U =\r\n",
       "\r\n",
       "   2.00000   0.00000   0.00000   1.00000\r\n",
       "   0.00000   2.00000   1.00000   0.00000\r\n",
       "   0.00000   0.00000   1.50000   0.00000\r\n",
       "   0.00000   0.00000   0.00000   1.50000\r\n",
       "\r\n"
      ]
     },
     "execution_count": 3,
     "metadata": {},
     "output_type": "execute_result"
    }
   ],
   "source": [
    "[L,U] = lu(A)"
   ]
  },
  {
   "cell_type": "code",
   "execution_count": 4,
   "metadata": {
    "collapsed": false
   },
   "outputs": [
    {
     "data": {
      "text/plain": [
       "y =\r\n",
       "\r\n",
       "   1.00000\r\n",
       "   1.00000\r\n",
       "   0.50000\r\n",
       "   0.50000\r\n",
       "\r\n"
      ]
     },
     "execution_count": 4,
     "metadata": {},
     "output_type": "execute_result"
    }
   ],
   "source": [
    "y = L\\b"
   ]
  },
  {
   "cell_type": "code",
   "execution_count": 5,
   "metadata": {
    "collapsed": false
   },
   "outputs": [
    {
     "data": {
      "text/plain": [
       "x =\r\n",
       "\r\n",
       "   0.33333\r\n",
       "   0.33333\r\n",
       "   0.33333\r\n",
       "   0.33333\r\n",
       "\r\n"
      ]
     },
     "execution_count": 5,
     "metadata": {},
     "output_type": "execute_result"
    }
   ],
   "source": [
    "x = U\\y"
   ]
  },
  {
   "cell_type": "markdown",
   "metadata": {},
   "source": [
    "Enačbe lahko preoblikujemo v formulo za Jacobijevo iteracijo, če izrazimo $x_i$\n",
    "\\begin{equation}\n",
    "x_i^{(n+1)} = \\frac{1}{2}\\left(1-x_{n-i+1}^{(n)}\\right)\n",
    "\\end{equation}\n",
    "Rekurzivno enačbo lahko enostavno sprogramiramo v octave:"
   ]
  },
  {
   "cell_type": "code",
   "execution_count": 6,
   "metadata": {
    "collapsed": false
   },
   "outputs": [
    {
     "data": {
      "text/plain": [
       "rek =\r\n",
       "\r\n",
       "@(x) (1 - flipud (x)) / 2\r\n",
       "\r\n"
      ]
     },
     "execution_count": 6,
     "metadata": {},
     "output_type": "execute_result"
    }
   ],
   "source": [
    "rek = @(x) (1-flipud(x))/2"
   ]
  },
  {
   "cell_type": "code",
   "execution_count": 29,
   "metadata": {
    "collapsed": false
   },
   "outputs": [
    {
     "data": {
      "text/plain": [
       "0.000000 0.000000 0.000000 0.000000 0.000000 0.000000 0.000000 0.000000 0.000000 0.000000 ...\r\n",
       "0.500000 0.500000 0.500000 0.500000 0.500000 0.500000 0.500000 0.500000 0.500000 0.500000 ...\r\n",
       "0.250000 0.250000 0.250000 0.250000 0.250000 0.250000 0.250000 0.250000 0.250000 0.250000 ...\r\n",
       "0.375000 0.375000 0.375000 0.375000 0.375000 0.375000 0.375000 0.375000 0.375000 0.375000 ...\r\n",
       "0.312500 0.312500 0.312500 0.312500 0.312500 0.312500 0.312500 0.312500 0.312500 0.312500 ...\r\n",
       "0.343750 0.343750 0.343750 0.343750 0.343750 0.343750 0.343750 0.343750 0.343750 0.343750 ...\r\n",
       "0.328125 0.328125 0.328125 0.328125 0.328125 0.328125 0.328125 0.328125 0.328125 0.328125 ...\r\n",
       "0.335938 0.335938 0.335938 0.335938 0.335938 0.335938 0.335938 0.335938 0.335938 0.335938 ...\r\n",
       "0.332031 0.332031 0.332031 0.332031 0.332031 0.332031 0.332031 0.332031 0.332031 0.332031 ...\r\n",
       "0.333984 0.333984 0.333984 0.333984 0.333984 0.333984 0.333984 0.333984 0.333984 0.333984 ...\r\n",
       "0.333008 0.333008 0.333008 0.333008 0.333008 0.333008 0.333008 0.333008 0.333008 0.333008 ...\r\n",
       "0.333496 0.333496 0.333496 0.333496 0.333496 0.333496 0.333496 0.333496 0.333496 0.333496 ...\r\n",
       "0.333252 0.333252 0.333252 0.333252 0.333252 0.333252 0.333252 0.333252 0.333252 0.333252 ...\r\n",
       "0.333374 0.333374 0.333374 0.333374 0.333374 0.333374 0.333374 0.333374 0.333374 0.333374 ...\r\n",
       "0.333313 0.333313 0.333313 0.333313 0.333313 0.333313 0.333313 0.333313 0.333313 0.333313 ...\r\n"
      ]
     },
     "execution_count": 29,
     "metadata": {},
     "output_type": "execute_result"
    }
   ],
   "source": [
    "x = ones(20,1);\n",
    "for i=1:15\n",
    "x = (1-flipud(x))/2;\n",
    "printf(\"%f \",x(1:10))\n",
    "printf(\"...\\n\")\n",
    "end"
   ]
  },
  {
   "cell_type": "markdown",
   "metadata": {},
   "source": [
    "Rešitev je enaka $x_i=\\frac{1}{3}$ in vse komponente konvergirajo enako."
   ]
  },
  {
   "cell_type": "code",
   "execution_count": 31,
   "metadata": {
    "collapsed": false
   },
   "outputs": [
    {
     "data": {
      "text/plain": [
       "1:\t0.000000\r\n",
       "2:\t0.500000\r\n",
       "3:\t0.250000\r\n",
       "4:\t0.375000\r\n",
       "5:\t0.312500\r\n",
       "6:\t0.343750\r\n",
       "7:\t0.328125\r\n",
       "8:\t0.335938\r\n",
       "9:\t0.332031\r\n",
       "10:\t0.333984\r\n",
       "11:\t0.333008\r\n",
       "12:\t0.333496\r\n",
       "13:\t0.333252\r\n",
       "14:\t0.333374\r\n",
       "15:\t0.333313\r\n"
      ]
     },
     "execution_count": 31,
     "metadata": {},
     "output_type": "execute_result"
    }
   ],
   "source": [
    "x = ones(20,1);\n",
    "for i=1:15\n",
    "x = (1-flipud(x))/2;\n",
    "printf(\"%d:\\t%f\\n\",i,x(1))\n",
    "end"
   ]
  },
  {
   "cell_type": "markdown",
   "metadata": {},
   "source": [
    "Za 3 pravilne decimalke, potrebujemo 10 korakov Jacobjeve iteracije. Podobno kot pri bisekciji, se napaka na vsakem koraku razpolovi.\n",
    "\n",
    "Za vsako iteracijo potrebujemo $2n$ operacij. Če upoštevamo, da so vse komponente enake, če ima začetni približek enake komponente pa zgolj 2."
   ]
  },
  {
   "cell_type": "markdown",
   "metadata": {},
   "source": [
    "## Naloga 2\n",
    "\n",
    "Naj bo $y(x)$ rešitev diferencialne enačbe\n",
    "  \\begin{equation*}\n",
    "    y''-y=-x,\n",
    "  \\end{equation*}\n",
    "ki zadošča začetnemu pogoju $y(0)=-1$ in $y'(0)=2$.\n",
    " \n",
    " 1. Izračunajte približek za $y(1)$ z Eulerjevo metodo s korakom $h=0.5$. Preverite, da je $y(x)=x-e^{-x}$ in določite lokalno napako na 1. koraku in globalno napako za $y(1)$.\n",
    " 2. Približek za $y(1)$ poiščite še z metodo RK4 \n",
    "  \\begin{align*}\n",
    "    k_1&=h f(x_n,y_n)\\\\\n",
    "    k_2&=h f(x_n+h/2,y_n+k_1/2)\\\\\n",
    "    k_3&=h f(x_n+h/2,y_n+k_2/2)\\\\\n",
    "    k_4&=h f(x_n+h,y_n+k_3)\\\\\n",
    "    y_{n+1}&=y_n+\\frac{k_1+2k_2+2k_3+k_4}{6}\n",
    "  \\end{align*} s korakom $h=0.1$.\n",
    " 3. Z linearno interpolacijo na podatkih iz prejšnje točke poiščite približek za ničlo. Ocenite napako vašega približka za ničlo in vašo oceno primerjajte z dejansko napako."
   ]
  },
  {
   "cell_type": "markdown",
   "metadata": {},
   "source": [
    "##Rešitev\n",
    "DE najprej prevedemo na sistem, tako da vpeljemo novo spremenljivko $z = y'$\n",
    "\\begin{align*}\n",
    "y' &= z\\\\\n",
    "z' & = y-x\n",
    "\\end{align*}\n",
    "\n",
    "Hitro lahko preverimo tudi, da je $y=x-e^{-x}$ rešitev začetnega problema:\n",
    "\\begin{align*}\n",
    "y' &= 1+e^{-x}\\\\\n",
    "y''&= -e^{-x},\n",
    "\\end{align*}\n",
    "če vstavimo v enačbo, se vse pokrajša. Podobno lahko preverimo, da je $y(0)=0-e^{0}=-1$ in $y'(0)=1+e^0=2$."
   ]
  },
  {
   "cell_type": "code",
   "execution_count": 9,
   "metadata": {
    "collapsed": false
   },
   "outputs": [
    {
     "data": {
      "text/plain": [
       "f =\r\n",
       "\r\n",
       "@(x, Y) [Y(2); Y(1) - x]\r\n",
       "\r\n"
      ]
     },
     "execution_count": 9,
     "metadata": {},
     "output_type": "execute_result"
    }
   ],
   "source": [
    "f = @(x,Y) [Y(2); Y(1)-x]"
   ]
  },
  {
   "cell_type": "code",
   "execution_count": 11,
   "metadata": {
    "collapsed": false
   },
   "outputs": [
    {
     "data": {
      "text/plain": [
       "Y1 =\r\n",
       "\r\n",
       "   0.00000\r\n",
       "   1.50000\r\n",
       "\r\n"
      ]
     },
     "execution_count": 11,
     "metadata": {},
     "output_type": "execute_result"
    }
   ],
   "source": [
    "#euler\n",
    "x0 = 0; Y0=[-1;2]; h = 0.5;\n",
    "Y1 = Y0 + h*f(x0,Y0)"
   ]
  },
  {
   "cell_type": "code",
   "execution_count": 12,
   "metadata": {
    "collapsed": false
   },
   "outputs": [
    {
     "data": {
      "text/plain": [
       "Y2 =\r\n",
       "\r\n",
       "   0.75000\r\n",
       "   1.25000\r\n",
       "\r\n"
      ]
     },
     "execution_count": 12,
     "metadata": {},
     "output_type": "execute_result"
    }
   ],
   "source": [
    "x1 = x0 + h;\n",
    "Y2 = Y1 + h*f(x1,Y1)"
   ]
  },
  {
   "cell_type": "markdown",
   "metadata": {},
   "source": [
    "Lokalna napaka na prvem koraku je enaka razliki prave rešitve in približka:"
   ]
  },
  {
   "cell_type": "code",
   "execution_count": 13,
   "metadata": {
    "collapsed": false
   },
   "outputs": [
    {
     "data": {
      "text/plain": [
       "ans =  0.10653\r\n"
      ]
     },
     "execution_count": 13,
     "metadata": {},
     "output_type": "execute_result"
    }
   ],
   "source": [
    "Y1(1)-(x1-exp(-x1))"
   ]
  },
  {
   "cell_type": "markdown",
   "metadata": {},
   "source": [
    "Globalna napaka v $x=1$ je enaka"
   ]
  },
  {
   "cell_type": "code",
   "execution_count": 14,
   "metadata": {
    "collapsed": false
   },
   "outputs": [
    {
     "data": {
      "text/plain": [
       "ans =  0.11788\r\n"
      ]
     },
     "execution_count": 14,
     "metadata": {},
     "output_type": "execute_result"
    }
   ],
   "source": [
    "Y2(1)-(1-exp(-1))"
   ]
  },
  {
   "cell_type": "markdown",
   "metadata": {},
   "source": [
    "Metodo RK4 raje zapišemo v zanki"
   ]
  },
  {
   "cell_type": "code",
   "execution_count": 33,
   "metadata": {
    "collapsed": false
   },
   "outputs": [
    {
     "data": {
      "text/plain": [
       "Y =\r\n",
       "\r\n",
       " Columns 1 through 7:\r\n",
       "\r\n",
       "  -1.000000  -0.804837  -0.618731  -0.440818  -0.270320  -0.106531   0.051188\r\n",
       "   2.000000   1.904837   1.818731   1.740818   1.670320   1.606531   1.548812\r\n",
       "\r\n",
       " Columns 8 through 11:\r\n",
       "\r\n",
       "   0.203414   0.350671   0.493430   0.632120\r\n",
       "   1.496586   1.449329   1.406570   1.367880\r\n",
       "\r\n"
      ]
     },
     "execution_count": 33,
     "metadata": {},
     "output_type": "execute_result"
    }
   ],
   "source": [
    "n = 10;\n",
    "h = 0.1;\n",
    "Y = zeros(2,n+1); Y(:,1)=Y0;\n",
    "x = linspace(0,1,n+1);\n",
    "for i=1:n\n",
    " k1 = h*f(x(i),Y(:,i));\n",
    " k2 = h*f(x(i)+h/2, Y(:,i)+k1/2);\n",
    " k3 = h*f(x(i)+h/2, Y(:,i)+k2/2);\n",
    " k4 = h*f(x(i)+h, Y(:,i)+k3);\n",
    " Y(:,i+1) = Y(:,i) + (k1+2*k2+2*k3+k4)/6;\n",
    "end\n",
    "Y"
   ]
  },
  {
   "cell_type": "code",
   "execution_count": 34,
   "metadata": {
    "collapsed": false
   },
   "outputs": [
    {
     "data": {
      "image/png": "[encoded data removed]",
      "text/plain": [
       "<IPython.core.display.Image object>"
      ]
     },
     "metadata": {},
     "output_type": "display_data"
    },
    {
     "data": {},
     "execution_count": 34,
     "metadata": {},
     "output_type": "execute_result"
    }
   ],
   "source": [
    "plot(x,Y(1,:)-(x-exp(-x)),'.')\n",
    "title(\"Napaka\")"
   ]
  },
  {
   "cell_type": "code",
   "execution_count": 37,
   "metadata": {
    "collapsed": false
   },
   "outputs": [
    {
     "data": {
      "image/png": "[encoded data removed]",
      "text/plain": [
       "<IPython.core.display.Image object>"
      ]
     },
     "metadata": {},
     "output_type": "display_data"
    },
    {
     "data": {},
     "execution_count": 37,
     "metadata": {},
     "output_type": "execute_result"
    }
   ],
   "source": [
    "plot(x,Y(1,:),'.')\n",
    "grid on"
   ]
  },
  {
   "cell_type": "markdown",
   "metadata": {},
   "source": [
    "Ničla leži na intervalu $[0.5,0.6]$, uporabimo linearno interpolacijo na podatkih:"
   ]
  },
  {
   "cell_type": "code",
   "execution_count": 40,
   "metadata": {
    "collapsed": false
   },
   "outputs": [
    {
     "data": {
      "text/plain": [
       "ans =\r\n",
       "\r\n",
       "   0.500000   0.600000\r\n",
       "  -0.106531   0.051188\r\n",
       "\r\n"
      ]
     },
     "execution_count": 40,
     "metadata": {},
     "output_type": "execute_result"
    }
   ],
   "source": [
    "[x(6:7);Y(1,6:7)]"
   ]
  },
  {
   "cell_type": "markdown",
   "metadata": {},
   "source": [
    "Iščemo ničlo linearne funkcije, ki interpolira podatke $(a,f(a))$ in $(b,f(b))$. Če izenačimo diferenčne kvociente\n",
    "$$\n",
    "\\frac{b-a}{f(b)-f(a)}=\\frac{x-a}{0-f(a)},\n",
    "$$\n",
    "dobimo formulo za $x$\n",
    "$$\n",
    "x = a -f(a)\\frac{b-a}{f(b)-f(a)}\n",
    "$$"
   ]
  },
  {
   "cell_type": "code",
   "execution_count": 41,
   "metadata": {
    "collapsed": false
   },
   "outputs": [
    {
     "data": {
      "text/plain": [
       "xn =  0.56754\r\n"
      ]
     },
     "execution_count": 41,
     "metadata": {},
     "output_type": "execute_result"
    }
   ],
   "source": [
    "xn = x(6)-Y(1,6)*(x(7)-x(6))/(Y(1,7)-Y(1,6))"
   ]
  },
  {
   "cell_type": "markdown",
   "metadata": {},
   "source": [
    "Kot smo videli iz grafa, je napaka metode RK4 zelo majhna, zato lahko ocenimo napako rešitve z napako interpolacije, ki jo dobimo po formuli\n",
    "\n",
    "$$\n",
    "\\left|\\frac{y''(\\xi)}{2!}(x-a)(x-b)\\right| < |y''(\\xi)| h^2/2=0.005 |y''(\\xi)|\n",
    "$$\n",
    "Oceno za $y''( \\xi)$ pa lahko dobimo iz diferencialne enačbe: "
   ]
  },
  {
   "cell_type": "code",
   "execution_count": 46,
   "metadata": {
    "collapsed": false
   },
   "outputs": [
    {
     "data": {
      "text/plain": [
       "ans =\r\n",
       "\r\n",
       "   1.60653   1.54881\r\n",
       "  -0.60653  -0.54881\r\n",
       "\r\n"
      ]
     },
     "execution_count": 46,
     "metadata": {},
     "output_type": "execute_result"
    }
   ],
   "source": [
    "[f(x(6),Y(:,6)) f(x(7),Y(:,7))]"
   ]
  },
  {
   "cell_type": "code",
   "execution_count": 47,
   "metadata": {
    "collapsed": false
   },
   "outputs": [
    {
     "data": {
      "text/plain": [
       "ocena =  0.0080300\r\n"
      ]
     },
     "execution_count": 47,
     "metadata": {},
     "output_type": "execute_result"
    }
   ],
   "source": [
    "ocena = 1.606*0.005"
   ]
  },
  {
   "cell_type": "markdown",
   "metadata": {},
   "source": [
    "Če želimo izračunati dejansko napako, potrebujemo pravo rešitev enačbe $x-e^{-x}=0$, ki jo najlažje poiščemo z navadno iteracijo "
   ]
  },
  {
   "cell_type": "code",
   "execution_count": 48,
   "metadata": {
    "collapsed": false
   },
   "outputs": [
    {
     "data": {
      "text/plain": [
       "x =  0.56692\r\n",
       "x =  0.56727\r\n",
       "x =  0.56707\r\n",
       "x =  0.56718\r\n",
       "x =  0.56712\r\n",
       "x =  0.56716\r\n",
       "x =  0.56714\r\n",
       "x =  0.56715\r\n",
       "x =  0.56714\r\n",
       "x =  0.56714\r\n"
      ]
     },
     "execution_count": 48,
     "metadata": {},
     "output_type": "execute_result"
    }
   ],
   "source": [
    "x = xn\n",
    "for i=1:10\n",
    "x = exp(-x)\n",
    "end"
   ]
  },
  {
   "cell_type": "code",
   "execution_count": 49,
   "metadata": {
    "collapsed": false
   },
   "outputs": [
    {
     "data": {
      "text/plain": [
       "ans =   -4.0010e-04\r\n"
      ]
     },
     "execution_count": 49,
     "metadata": {},
     "output_type": "execute_result"
    }
   ],
   "source": [
    "% napaka\n",
    "x-xn"
   ]
  },
  {
   "cell_type": "code",
   "execution_count": null,
   "metadata": {
    "collapsed": true
   },
   "outputs": [],
   "source": []
  }
 ],
 "metadata": {
  "kernelspec": {
   "display_name": "Octave",
   "language": "octave",
   "name": "octave_kernel"
  },
  "language_info": {
   "file_extension": ".m",
   "help_links": [
    {
     "text": "MetaKernel Magics",
     "url": "https://github.com/calysto/metakernel/blob/master/metakernel/magics/README.md"
    }
   ],
   "mimetype": "text/x-octave",
   "name": "octave_kernel"
  }
 },
 "nbformat": 4,
 "nbformat_minor": 0
}
