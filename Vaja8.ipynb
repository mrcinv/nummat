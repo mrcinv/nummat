{
 "metadata": {
  "name": ""
 },
 "nbformat": 3,
 "nbformat_minor": 0,
 "worksheets": [
  {
   "cells": [
    {
     "cell_type": "markdown",
     "metadata": {},
     "source": [
      "#Numeri\u010dna integracija\n",
      "Izpelji formule za sredinsko pravilo in Simpsonovo pravilo in iz obe izpelji \u0161e formule za sestavljeni pravili. "
     ]
    },
    {
     "cell_type": "code",
     "collapsed": false,
     "input": [
      "# funkcija za sestavljeno sredinsko pravilo\n",
      "def sredinsko(fun,a,b,n):\n",
      "    \"\"\"Funkcija poi\u0161\u010de pribli\u017eek integrala funkcije fun na intervalu\n",
      "    [a,b] s sestavljenim sredinskim pravilom z n koraki\"\"\"\n",
      "    h = (b-a)/n\n",
      "    # vozli\u0161\u010da\n",
      "    x = linspace(a+h/2,b-h/2,n)\n",
      "    return h*sum(fun(x))"
     ],
     "language": "python",
     "metadata": {},
     "outputs": [],
     "prompt_number": 4
    },
    {
     "cell_type": "markdown",
     "metadata": {},
     "source": [
      "Izra\u010dunajmo ni\u010dto Besselovo funkcijo, ki je dana z integralom \n",
      "\n",
      "$$J_0(x)=\\frac{1}{\\pi}\\int_0^\\pi \\cos(x\\sin(t))dt$$\n",
      "\n",
      "Ocena za napako sredinskega pravila $\\frac{1}{24}h^3f''(\\xi)$  lahko uporabimo za oceno za napako sestavljenega pravila, \u010de upo\u0161tevamo, da je $h=\\frac{b-a}{n}$.\n",
      "\n",
      "$$|R_f |=|\\sum_{i=1}^n h^3\\frac{1}{24}f''(\\xi_i)|\\le n h^3\\frac{1}{24}||f''||_{\\infty,[a,b]}=(b-a) h^2\\frac{1}{24}||f''||_{\\infty,[a,b]}$$"
     ]
    },
    {
     "cell_type": "code",
     "collapsed": false,
     "input": [
      "# bessel 0\n",
      "fun = lambda t: 1/pi*cos(x*sin(t))\n",
      "a=0; b=pi\n",
      "x = 1\n",
      "print sredinsko(fun,a,b,2000)"
     ],
     "language": "python",
     "metadata": {},
     "outputs": [
      {
       "output_type": "stream",
       "stream": "stdout",
       "text": [
        "0.765197686558\n"
       ]
      }
     ],
     "prompt_number": 5
    },
    {
     "cell_type": "code",
     "collapsed": false,
     "input": [
      "from scipy.special import jn\n",
      "jn(0,1)"
     ],
     "language": "python",
     "metadata": {},
     "outputs": [
      {
       "metadata": {},
       "output_type": "pyout",
       "prompt_number": 6,
       "text": [
        "0.76519768655796649"
       ]
      }
     ],
     "prompt_number": 6
    },
    {
     "cell_type": "markdown",
     "metadata": {},
     "source": [
      "#Verjetnost tr\u010denja\n",
      "Po orbitah okrog zemlje kro\u017e vedno ve\u010d satelitov. Zato se je pove\u010dala verjetnost, da dva satelita tr\u010dita. Problem je v tem, da polo\u017eajev za veliko satelitov ni mogo\u010de natan\u010dno dolo\u010diti. Zato lahko zgolj ocenimo kolik\u0161na je verjetnost tr\u010denja. Problem poenostavimo tako, da predpostavimo, da je gibanje linearno in enakomerno. Polo\u017eaj satelitov je \u201erazmazan\u201c z normalno porazdelitvijo. Polo\u017eaja obeh satelitov projeciramo na ravnino tr\u010denja, ki je pravokotna na relativno hitrost in predpostavimo, da eden miruje.\n",
      "\n",
      "Predpostavimo, da sta satelita krogli s polmeroma $R_1$ in $R_2$. Naj bo $(X,Y)$ relativni polo\u017eaj med obema satelitoma v ravnini tr\u010denja. Predpostavimo, da je relativni polo\u017eaj slu\u010dajni vektor porazdeljen normalno\n",
      "\n",
      "$$(X,Y)\\sim N\\left((\\mu_x,\\mu_y),\\begin{bmatrix}\\sigma_x & 0\\\\ 0&\\sigma_y\\end{bmatrix}\\right)$$\n",
      "\n",
      "Verjetnost tr\u010denja je enaka verjetnosti, da bo relativni polo\u017eaj satelita znotrja kroga s sredi\u0161\u010dem v izhodi\u0161\u010du in polmerom enakim $R=R_1+R_2$"
     ]
    },
    {
     "cell_type": "code",
     "collapsed": false,
     "input": [
      "from random import gauss\n",
      "# krog in oblak to\u010dk\n",
      "x0,y0,sx,sy,R = 2,2,1,2,3\n",
      "title(u\"Oblak naklju\u010dnih polo\u017eajev in obmo\u010dje trka\")\n",
      "# oblak 100 naklju\u010dnih to\u010dk\n",
      "n = 1000\n",
      "x = [gauss(x0,sx) for i in range(n)]\n",
      "y = [gauss(y0,sy) for i in range(n)]\n",
      "plot(x,y,'.')\n",
      "# krog\n",
      "t = linspace(0,2*pi)\n",
      "plot(R*cos(t),R*sin(t))\n",
      "axis(\"equal\")\n",
      "legend([u\"relativni polo\u017eaj\",u\"obmo\u010dje trka\"],\"lower left\")\n"
     ],
     "language": "python",
     "metadata": {},
     "outputs": [
      {
       "metadata": {},
       "output_type": "pyout",
       "prompt_number": 68,
       "text": [
        "<matplotlib.legend.Legend at 0x4042ad0>"
       ]
      },
      {
       "metadata": {},
       "output_type": "display_data",
       "png": "[encoded data removed]",
       "text": [
        "<matplotlib.figure.Figure at 0x3ff4a10>"
       ]
      }
     ],
     "prompt_number": 68
    },
    {
     "cell_type": "markdown",
     "metadata": {},
     "source": [
      "Verjetnost trka lahko izra\u010dunamo kot dvojni integral gostote verjentosti po obmo\u010dju trka\n",
      "\n",
      "$$P=\\frac{1}{2\\pi\\sigma_x\\sigma_y}\\iint_{K(0,R)} \\exp\\left(-\\frac{1}{2}\\left(\\frac{(x-\\mu_x)^2}{\\sigma_x^2}+\\frac{(y-\\mu_y)^2}{\\sigma_y^2}\\right)\\right)dxdy$$\n",
      "\n",
      "S polarnimi koordinatami $(x,y)=(r\\cos(\\phi),r\\sin(\\phi))$ prevedemo integral na pravokotno obmo\u010dje $(r,\\phi)\\in [0,R]\\times[0,2\\pi)$\n",
      "\n",
      "$$P=\\frac{1}{2\\pi\\sigma_x\\sigma_y}\\int_0^R\\int_0^{2\\pi}r\\cdot \\exp\\left(-\\frac{1}{2}\\left(\\frac{(r\\cos(\\phi)-\\mu_x)^2}{\\sigma_x^2}+\\frac{(r\\sin(\\phi)-\\mu_y)^2}{\\sigma_y^2}\\right)\\right)drd\\phi,$$\n",
      "ki ga lahko izra\u010dunamo s sestavljenim sredinskim pravilom."
     ]
    },
    {
     "cell_type": "code",
     "collapsed": false,
     "input": [
      "# dvodimenzionalno sestavljeno sredinsko pravilo\n",
      "from itertools import product\n",
      "def sred2d(fun,a,b,n):\n",
      "    \"\"\" funkcija izra\u010duna dvojni integral funkcije fun na pravokotniku [a[0],b[0]]x[a[1],b[1]]\n",
      "    s sestavljenim sredinskim pravilom z n koraki\"\"\"\n",
      "    idx=range(n) # indeksi\n",
      "    # vozli\u0161\u010da\n",
      "    h = (a[0]-b[0])/n\n",
      "    x = linspace(a[0]+h/2,b[0]-h/2,n)\n",
      "    k = (a[1]-b[1])/n\n",
      "    y = linspace(a[1]+k/2,b[1]-k/2,n)\n",
      "    I = 0\n",
      "    for i,j in product(idx, repeat=2):\n",
      "        I+=fun(x[i],y[j])\n",
      "    I=h*k*I\n",
      "    return I"
     ],
     "language": "python",
     "metadata": {},
     "outputs": [],
     "prompt_number": 64
    },
    {
     "cell_type": "code",
     "collapsed": false,
     "input": [
      "fun = lambda r,fi: 1/(2*pi*sx*sy)*r*exp(-((r*cos(fi)-x0)**2/sx + (r*sin(fi)-y0)**2/sy)/2)"
     ],
     "language": "python",
     "metadata": {},
     "outputs": [],
     "prompt_number": 67
    },
    {
     "cell_type": "code",
     "collapsed": false,
     "input": [
      "P300=sred2d(fun,[0.,0.],[R,2*pi],300)\n",
      "print P300"
     ],
     "language": "python",
     "metadata": {},
     "outputs": [
      {
       "output_type": "stream",
       "stream": "stdout",
       "text": [
        "0.337925932265\n"
       ]
      }
     ],
     "prompt_number": 69
    },
    {
     "cell_type": "code",
     "collapsed": false,
     "input": [
      "# ocena za napako\n",
      "P150 = sred2d(fun,[0.,0.],[R,2*pi],150)\n",
      "print \"Richardsonova ocena za napako\",(P300-P150)/(2**2-1)"
     ],
     "language": "python",
     "metadata": {},
     "outputs": [
      {
       "output_type": "stream",
       "stream": "stdout",
       "text": [
        "Richardsonova ocena za napako -0.000796482760003\n"
       ]
      }
     ],
     "prompt_number": 70
    },
    {
     "cell_type": "code",
     "collapsed": false,
     "input": [
      "# Popravek po Richardsonu\n",
      "(4*P300-P150)/3"
     ],
     "language": "python",
     "metadata": {},
     "outputs": [
      {
       "metadata": {},
       "output_type": "pyout",
       "prompt_number": 71,
       "text": [
        "0.33712944950495022"
       ]
      }
     ],
     "prompt_number": 71
    },
    {
     "cell_type": "markdown",
     "metadata": {},
     "source": [
      "##Zaklju\u010dek\n",
      "Napaka pada zelo po\u010dasi, zato za izra\u010dun potrebujemo veliko izra\u010dunov. Bolje bi bilo uporabiti kak\u0161no metodo vi\u0161jega reda, npr. Simpsonovo metodo ali Gauss-Legendrove kvadraturne formule."
     ]
    },
    {
     "cell_type": "code",
     "collapsed": false,
     "input": [],
     "language": "python",
     "metadata": {},
     "outputs": []
    }
   ],
   "metadata": {}
  }
 ]
}