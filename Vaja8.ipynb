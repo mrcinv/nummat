{
 "metadata": {
  "name": ""
 },
 "nbformat": 3,
 "nbformat_minor": 0,
 "worksheets": [
  {
   "cells": [
    {
     "cell_type": "code",
     "collapsed": false,
     "input": [
      "hstack((array([1,2]),[0]))"
     ],
     "language": "python",
     "metadata": {},
     "outputs": [
      {
       "metadata": {},
       "output_type": "pyout",
       "prompt_number": 2,
       "text": [
        "array([1, 2, 0])"
       ]
      }
     ],
     "prompt_number": 2
    },
    {
     "cell_type": "code",
     "collapsed": false,
     "input": [
      "def Hn(n):\n",
      "    \"\"\"Funkcija vrne koeficiente n-tega in (n-1) Hermitovega \n",
      "    polinoma, ki je dan z rekurzivno formulo H(n+1)=2xH(n)-2H(n-1)\"\"\"\n",
      "    if n>1:\n",
      "        h,hp = Hn(n-1)\n",
      "        # H(n) = 2xH(n-1) - 2(n-1)H(n-2)\n",
      "        hn = 2*hstack((h,[0]))-2*(n-1)*hstack(([0,0],hp))\n",
      "        return (hn,h)\n",
      "    else:\n",
      "        # H0=1, H1=2x\n",
      "        return (array([2,0]),array([1]))"
     ],
     "language": "python",
     "metadata": {},
     "outputs": [],
     "prompt_number": 24
    },
    {
     "cell_type": "code",
     "collapsed": false,
     "input": [
      "Hn(1)"
     ],
     "language": "python",
     "metadata": {},
     "outputs": [
      {
       "metadata": {},
       "output_type": "pyout",
       "prompt_number": 4,
       "text": [
        "(array([2, 0]), array([1]))"
       ]
      }
     ],
     "prompt_number": 4
    },
    {
     "cell_type": "code",
     "collapsed": false,
     "input": [
      "Hn(3)"
     ],
     "language": "python",
     "metadata": {},
     "outputs": [
      {
       "metadata": {},
       "output_type": "pyout",
       "prompt_number": 5,
       "text": [
        "(array([  8,   0, -12,   0]), array([ 4,  0, -2]))"
       ]
      }
     ],
     "prompt_number": 5
    },
    {
     "cell_type": "markdown",
     "metadata": {},
     "source": [
      "# Ni\u010dle Hermitovih polinomov"
     ]
    },
    {
     "cell_type": "code",
     "collapsed": false,
     "input": [
      "H10,H9=Hn(10)"
     ],
     "language": "python",
     "metadata": {},
     "outputs": [],
     "prompt_number": 6
    },
    {
     "cell_type": "code",
     "collapsed": false,
     "input": [
      "H10"
     ],
     "language": "python",
     "metadata": {},
     "outputs": [
      {
       "metadata": {},
       "output_type": "pyout",
       "prompt_number": 7,
       "text": [
        "array([   1024,       0,  -23040,       0,  161280,       0, -403200,\n",
        "             0,  302400,       0,  -30240])"
       ]
      }
     ],
     "prompt_number": 7
    },
    {
     "cell_type": "code",
     "collapsed": false,
     "input": [
      "nicle = roots(H10)"
     ],
     "language": "python",
     "metadata": {},
     "outputs": [],
     "prompt_number": 14
    },
    {
     "cell_type": "code",
     "collapsed": false,
     "input": [
      "# vrednosti n-tega Hermitovega polinoma\n",
      "def Hnval(n,x):\n",
      "    \"\"\"Funkcija vrne vrednosti n-tega in (n-1) Hermitovega \n",
      "    polinoma v x, ki je dan z rekurzivno formulo H(n+1)=2xH(n)-2H(n-1)\"\"\"\n",
      "    if n>1:\n",
      "        h,hp = Hnval(n-1,x)\n",
      "        # H(n) = 2xH(n-1) - 2(n-1)H(n-2)\n",
      "        hn = 2*x*h - 2*(n-1)*hp\n",
      "        return (hn,h)\n",
      "    else:\n",
      "        # H0=1, H1=2x\n",
      "        return (2*x,ones_like(x))"
     ],
     "language": "python",
     "metadata": {},
     "outputs": [],
     "prompt_number": 26
    },
    {
     "cell_type": "code",
     "collapsed": false,
     "input": [
      "x=linspace(-4,4)\n",
      "y1 = polyval(H10,x)\n",
      "y2,_ = Hnval(10,x)\n",
      "plot(x,y1-y2)"
     ],
     "language": "python",
     "metadata": {},
     "outputs": [
      {
       "metadata": {},
       "output_type": "pyout",
       "prompt_number": 11,
       "text": [
        "[<matplotlib.lines.Line2D at 0x28a0d50>]"
       ]
      },
      {
       "metadata": {},
       "output_type": "display_data",
       "png": "[encoded data removed]",
       "text": [
        "<matplotlib.figure.Figure at 0x2882390>"
       ]
      }
     ],
     "prompt_number": 11
    },
    {
     "cell_type": "code",
     "collapsed": false,
     "input": [
      "def tangentna(f,df,x0):\n",
      "    \"\"\"Funkcija tangentna(f,df,x0) poi\u0161\u010de x, za katerega je f(x)=0. Uporabi tangentno metodo.\"\"\"\n",
      "    maxit=100\n",
      "    tol = 1e-14\n",
      "    k = 0\n",
      "    razlika = 1\n",
      "    while all(razlika > tol) and (k<maxit):\n",
      "        razlika = f(x0)/df(x0)\n",
      "        x0 = x0 - razlika\n",
      "        k += 1\n",
      "    return x0"
     ],
     "language": "python",
     "metadata": {},
     "outputs": [],
     "prompt_number": 19
    },
    {
     "cell_type": "code",
     "collapsed": false,
     "input": [
      "f = lambda x: Hnval(10,x)[0]\n",
      "df = lambda x: 20*Hnval(10,x)[1]\n",
      "nicle2 = tangentna(f,df,nicle) "
     ],
     "language": "python",
     "metadata": {},
     "outputs": [],
     "prompt_number": 20
    },
    {
     "cell_type": "code",
     "collapsed": false,
     "input": [
      "n = 100\n",
      "hn,_ = Hn(n) \n",
      "nicle = roots(hn)\n",
      "f = lambda x: Hnval(n,x)[0]\n",
      "df = lambda x: 2*n*Hnval(n,x)[1]\n",
      "nicle2 = tangentna(f,df,nicle)\n",
      "amax(abs((nicle2-nicle)/nicle))"
     ],
     "language": "python",
     "metadata": {},
     "outputs": [
      {
       "metadata": {},
       "output_type": "pyout",
       "prompt_number": 38,
       "text": [
        "0.11821815678027964"
       ]
      }
     ],
     "prompt_number": 38
    },
    {
     "cell_type": "code",
     "collapsed": false,
     "input": [
      "hn.dtype"
     ],
     "language": "python",
     "metadata": {},
     "outputs": [
      {
       "metadata": {},
       "output_type": "pyout",
       "prompt_number": 44,
       "text": [
        "dtype('int64')"
       ]
      }
     ],
     "prompt_number": 44
    },
    {
     "cell_type": "code",
     "collapsed": false,
     "input": [
      "nicle-nicle2"
     ],
     "language": "python",
     "metadata": {},
     "outputs": [
      {
       "metadata": {},
       "output_type": "pyout",
       "prompt_number": 22,
       "text": [
        "array([ -4.44089210e-16,  -4.44089210e-16,  -2.22044605e-15,\n",
        "         4.44089210e-16,  -1.33226763e-15,  -2.22044605e-16,\n",
        "        -1.33226763e-15,  -1.77635684e-15,   0.00000000e+00,\n",
        "         5.55111512e-17])"
       ]
      }
     ],
     "prompt_number": 22
    },
    {
     "cell_type": "markdown",
     "metadata": {},
     "source": [
      "# Gauss-Hermitove formule"
     ]
    },
    {
     "cell_type": "code",
     "collapsed": false,
     "input": [
      "import math\n",
      "n=10\n",
      "h,hp = Hn(10)\n",
      "x = roots(Hn(10)[0])\n",
      "omega = 2**(n-1)*math.factorial(n)*sqrt(pi)/n**2/Hnval(n-1,x)[0]**2"
     ],
     "language": "python",
     "metadata": {},
     "outputs": [],
     "prompt_number": 29
    },
    {
     "cell_type": "code",
     "collapsed": false,
     "input": [
      "x"
     ],
     "language": "python",
     "metadata": {},
     "outputs": [
      {
       "metadata": {},
       "output_type": "pyout",
       "prompt_number": 30,
       "text": [
        "array([-3.43615912,  3.43615912, -2.53273167,  2.53273167, -1.75668365,\n",
        "        1.75668365, -1.03661083,  1.03661083, -0.34290133,  0.34290133])"
       ]
      }
     ],
     "prompt_number": 30
    },
    {
     "cell_type": "code",
     "collapsed": false,
     "input": [
      "omega"
     ],
     "language": "python",
     "metadata": {},
     "outputs": [
      {
       "metadata": {},
       "output_type": "pyout",
       "prompt_number": 31,
       "text": [
        "array([  7.64043286e-06,   7.64043286e-06,   1.34364575e-03,\n",
        "         1.34364575e-03,   3.38743945e-02,   3.38743945e-02,\n",
        "         2.40138611e-01,   2.40138611e-01,   6.10862634e-01,\n",
        "         6.10862634e-01])"
       ]
      }
     ],
     "prompt_number": 31
    },
    {
     "cell_type": "code",
     "collapsed": false,
     "input": [
      "# integral cos(x)exp(-x^2) od -oo do +oo\n",
      "I = sum(omega*cos(x))\n",
      "I"
     ],
     "language": "python",
     "metadata": {},
     "outputs": [
      {
       "metadata": {},
       "output_type": "pyout",
       "prompt_number": 33,
       "text": [
        "1.3803884470431407"
       ]
      }
     ],
     "prompt_number": 33
    },
    {
     "cell_type": "code",
     "collapsed": false,
     "input": [
      "1.3803884470431429"
     ],
     "language": "python",
     "metadata": {},
     "outputs": []
    },
    {
     "cell_type": "code",
     "collapsed": false,
     "input": [
      "for n in range(2,15):\n",
      "    h,hp = Hn(n)\n",
      "    x = roots(Hn(n)[0])\n",
      "    omega = 2**(n-1)*math.factorial(n)*sqrt(pi)/n**2/Hnval(n-1,x)[0]**2\n",
      "    print \"%.15f\" % sum(omega*cos(x))"
     ],
     "language": "python",
     "metadata": {},
     "outputs": [
      {
       "output_type": "stream",
       "stream": "stdout",
       "text": [
        "1.347498463716813\n",
        "1.382033071388048\n",
        "1.380329757161256\n",
        "1.380390075935655\n",
        "1.380388410050733\n",
        "1.380388447754079\n",
        "1.380388447031303\n",
        "1.380388447043317\n",
        "1.380388447043141\n",
        "1.380388447043143\n",
        "1.380388447043142\n",
        "1.380388447043142\n",
        "1.380388447043144\n"
       ]
      }
     ],
     "prompt_number": 35
    },
    {
     "cell_type": "code",
     "collapsed": false,
     "input": [
      "n = 5\n",
      "h,hp = Hn(n)\n",
      "x = roots(Hn(n)[0])\n",
      "omega = 2**(n-1)*math.factorial(n)*sqrt(pi)/n**2/Hnval(n-1,x)[0]**2\n",
      "I10 = sum(omega*cos(x))\n",
      "h,hp = Hn(n+1)\n",
      "x = roots(Hn(n+1)[0])\n",
      "omega = 2**(n)*math.factorial(n+1)*sqrt(pi)/(n+1)**2/Hnval(n,x)[0]**2\n",
      "I11 = sum(omega*cos(x))\n",
      "print I10-I11\n"
     ],
     "language": "python",
     "metadata": {},
     "outputs": [
      {
       "output_type": "stream",
       "stream": "stdout",
       "text": [
        "1.66588492156e-06\n"
       ]
      }
     ],
     "prompt_number": 37
    },
    {
     "cell_type": "code",
     "collapsed": false,
     "input": [],
     "language": "python",
     "metadata": {},
     "outputs": []
    }
   ],
   "metadata": {}
  }
 ]
}