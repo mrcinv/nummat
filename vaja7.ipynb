{
 "metadata": {
  "name": ""
 },
 "nbformat": 3,
 "nbformat_minor": 0,
 "worksheets": [
  {
   "cells": [
    {
     "cell_type": "markdown",
     "metadata": {},
     "source": [
      "#Aproksimacija podatkov o koncentraciji CO2\n",
      "\n",
      "Podatki o koncentraciji CO2 se \u017ee leta zbirajo na observatoriju Mauna Loa na Hawaiih."
     ]
    },
    {
     "cell_type": "code",
     "collapsed": false,
     "input": [
      "import urllib2\n",
      "\n",
      "req = urllib2.Request('ftp://aftp.cmdl.noaa.gov/products/trends/co2/co2_weekly_mlo.txt')\n",
      "response = urllib2.urlopen(req)\n",
      "#data = response.read()"
     ],
     "language": "python",
     "metadata": {},
     "outputs": [],
     "prompt_number": 117
    },
    {
     "cell_type": "code",
     "collapsed": false,
     "input": [
      "regex=r'\\d+\\s+\\d+\\s+\\d+\\s+(\\d+\\.\\d*)\\s+(\\d+\\.\\d*)\\s.*'\n",
      "A=fromregex(response,regex,float)"
     ],
     "language": "python",
     "metadata": {},
     "outputs": [],
     "prompt_number": 118
    },
    {
     "cell_type": "code",
     "collapsed": false,
     "input": [
      "A"
     ],
     "language": "python",
     "metadata": {},
     "outputs": [
      {
       "metadata": {},
       "output_type": "pyout",
       "prompt_number": 119,
       "text": [
        "array([[ 1974.3795,   333.29  ],\n",
        "       [ 1974.3986,   332.94  ],\n",
        "       [ 1974.4178,   332.16  ],\n",
        "       ..., \n",
        "       [ 2014.1849,   399.71  ],\n",
        "       [ 2014.2041,   400.58  ],\n",
        "       [ 2014.2233,   399.8   ]])"
       ]
      }
     ],
     "prompt_number": 119
    },
    {
     "cell_type": "code",
     "collapsed": false,
     "input": [
      "%pylab qt\n",
      "plot(A[:,0],A[:,1],'-')\n",
      "title('koncentracija CO2 (v ppm) za leta 1958-2014')"
     ],
     "language": "python",
     "metadata": {},
     "outputs": [
      {
       "output_type": "stream",
       "stream": "stdout",
       "text": [
        "Populating the interactive namespace from numpy and matplotlib\n"
       ]
      },
      {
       "output_type": "stream",
       "stream": "stderr",
       "text": [
        "WARNING: pylab import has clobbered these variables: ['f', 'get']\n",
        "`%pylab --no-import-all` prevents importing * from pylab and numpy\n"
       ]
      },
      {
       "metadata": {},
       "output_type": "pyout",
       "prompt_number": 120,
       "text": [
        "<matplotlib.text.Text at 0xb747cd0>"
       ]
      }
     ],
     "prompt_number": 120
    },
    {
     "cell_type": "markdown",
     "metadata": {},
     "source": [
      "Podatke o CO2 bi radi aproksimirali s funkcijo oblike\n",
      "\n",
      "$$p_2(t)+c\\sin(2\\pi t)+d\\cos(2\\pi t),$$\n",
      "\n",
      "kjer je $p_2$ polinom stopnje 2."
     ]
    },
    {
     "cell_type": "code",
     "collapsed": false,
     "input": [
      "t=A[:,0]\n",
      "co2=A[:,1]"
     ],
     "language": "python",
     "metadata": {},
     "outputs": [],
     "prompt_number": 121
    },
    {
     "cell_type": "code",
     "collapsed": false,
     "input": [
      "# approksimacija s premico\n",
      "B = vstack((t,ones_like(t))).T #matrika modela\n",
      "N = B.T.dot(B) # matrika normalnega sistema\n",
      "x = solve(N,B.T.dot(co2)) # re\u0161imo normalni sistem\n",
      "x"
     ],
     "language": "python",
     "metadata": {},
     "outputs": [
      {
       "metadata": {},
       "output_type": "pyout",
       "prompt_number": 124,
       "text": [
        "array([  1.68067521e+00,  -2.99088253e+03])"
       ]
      }
     ],
     "prompt_number": 124
    },
    {
     "cell_type": "code",
     "collapsed": false,
     "input": [
      "plot(t,co2,'r')\n",
      "plot(t,B.dot(x),'b')"
     ],
     "language": "python",
     "metadata": {},
     "outputs": [
      {
       "metadata": {},
       "output_type": "pyout",
       "prompt_number": 125,
       "text": [
        "[<matplotlib.lines.Line2D at 0xbd8a850>]"
       ]
      }
     ],
     "prompt_number": 125
    },
    {
     "cell_type": "code",
     "collapsed": false,
     "input": [
      "# napoved do leta 2050\n",
      "tp = linspace(2015,2050)\n",
      "co2n = vstack((tp,ones_like(tp))).T.dot(x) #matrika modela * parametri modela\n",
      "plot(t,co2,'r')\n",
      "plot(t,B.dot(x),'b')\n",
      "plot(tp,co2n,'k')"
     ],
     "language": "python",
     "metadata": {},
     "outputs": [
      {
       "metadata": {},
       "output_type": "pyout",
       "prompt_number": 127,
       "text": [
        "[<matplotlib.lines.Line2D at 0xa298d90>]"
       ]
      }
     ],
     "prompt_number": 127
    },
    {
     "cell_type": "code",
     "collapsed": false,
     "input": [
      "%pylab inline\n",
      "# kvadratni model\n",
      "B = vstack((t**2,t,ones_like(t))).T\n",
      "x2 = solve(B.T.dot(B),B.T.dot(co2))\n",
      "plot(t,co2,'r')\n",
      "plot(t,B.dot(x2),'b')"
     ],
     "language": "python",
     "metadata": {},
     "outputs": [
      {
       "output_type": "stream",
       "stream": "stdout",
       "text": [
        "Populating the interactive namespace from numpy and matplotlib\n"
       ]
      },
      {
       "metadata": {},
       "output_type": "pyout",
       "prompt_number": 141,
       "text": [
        "[<matplotlib.lines.Line2D at 0xab98090>]"
       ]
      },
      {
       "metadata": {},
       "output_type": "display_data",
       "png": "[encoded data removed]",
       "text": [
        "<matplotlib.figure.Figure at 0xbd828d0>"
       ]
      }
     ],
     "prompt_number": 141
    },
    {
     "cell_type": "code",
     "collapsed": false,
     "input": [
      "# stopnja nara\u0161\u010danja v letu 2000\n",
      "2*x2[0]*2000+x2[1]"
     ],
     "language": "python",
     "metadata": {},
     "outputs": [
      {
       "metadata": {},
       "output_type": "pyout",
       "prompt_number": 129,
       "text": [
        "1.8029892772045741"
       ]
      }
     ],
     "prompt_number": 129
    },
    {
     "cell_type": "code",
     "collapsed": false,
     "input": [
      "cond(B.T.dot(B))"
     ],
     "language": "python",
     "metadata": {},
     "outputs": [
      {
       "metadata": {},
       "output_type": "pyout",
       "prompt_number": 131,
       "text": [
        "1.7865879894123656e+22"
       ]
      }
     ],
     "prompt_number": 131
    },
    {
     "cell_type": "code",
     "collapsed": false,
     "input": [
      "# izbolj\u0161ana baza\n",
      "B = vstack(((t-1990)**2,(t-1990),ones_like(t))).T\n",
      "cond(B.T.dot(B))"
     ],
     "language": "python",
     "metadata": {},
     "outputs": [
      {
       "metadata": {},
       "output_type": "pyout",
       "prompt_number": 167,
       "text": [
        "96070.726944637645"
       ]
      }
     ],
     "prompt_number": 167
    },
    {
     "cell_type": "code",
     "collapsed": false,
     "input": [
      "x2n = solve(B.T.dot(B),B.T.dot(co2))\n",
      "x2n"
     ],
     "language": "python",
     "metadata": {},
     "outputs": [
      {
       "metadata": {},
       "output_type": "pyout",
       "prompt_number": 152,
       "text": [
        "array([  1.08007920e-02,   1.58697465e+00,   3.52441501e+02])"
       ]
      }
     ],
     "prompt_number": 152
    },
    {
     "cell_type": "code",
     "collapsed": false,
     "input": [
      "# normalni sistem je zelo ob\u010dutljiv, zato je bolje uporabiti QR razcep\n",
      "q,r = qr(B) # B= Q.dot(R)\n",
      "x2 = solve(r,q.T.dot(co2))\n",
      "norm(B.dot(x2)-co2)"
     ],
     "language": "python",
     "metadata": {},
     "outputs": [
      {
       "metadata": {},
       "output_type": "pyout",
       "prompt_number": 168,
       "text": [
        "104.12927746739091"
       ]
      }
     ],
     "prompt_number": 168
    },
    {
     "cell_type": "code",
     "collapsed": false,
     "input": [
      "cond(r)"
     ],
     "language": "python",
     "metadata": {},
     "outputs": [
      {
       "metadata": {},
       "output_type": "pyout",
       "prompt_number": 149,
       "text": [
        "309.95278179851459"
       ]
      }
     ],
     "prompt_number": 149
    },
    {
     "cell_type": "code",
     "collapsed": false,
     "input": [
      "bs=[ 0.015,0.014, 0.013,0.012]\n",
      "napaka =[]\n",
      "for b in bs: \n",
      "    B = vstack((exp(b*(t-1990)),ones_like(t))).T\n",
      "    q,r = qr(B) # B= Q.dot(R)\n",
      "    xe = solve(r,q.T.dot(co2))\n",
      "    napaka.append(norm(B.dot(xe)-co2))\n",
      "napaka"
     ],
     "language": "python",
     "metadata": {},
     "outputs": [
      {
       "metadata": {},
       "output_type": "pyout",
       "prompt_number": 166,
       "text": [
        "[104.03292169415606,\n",
        " 103.78195870249631,\n",
        " 103.72075702661093,\n",
        " 103.85023929363824]"
       ]
      }
     ],
     "prompt_number": 166
    },
    {
     "cell_type": "code",
     "collapsed": false,
     "input": [
      "# dodamo nihanje\n",
      "B = vstack(((t-1990)**2,(t-1990),ones_like(t),sin(2*pi*t),cos(2*pi*t))).T\n",
      "q,r = qr(B)\n",
      "xn = solve(r,q.T.dot(co2))\n",
      "plot(t,co2,'r')\n",
      "plot(t,B.dot(xn),'b')\n",
      "norm(B.dot(xn)-co2) #napaka"
     ],
     "language": "python",
     "metadata": {},
     "outputs": [
      {
       "metadata": {},
       "output_type": "pyout",
       "prompt_number": 170,
       "text": [
        "44.174765814073652"
       ]
      },
      {
       "metadata": {},
       "output_type": "display_data",
       "png": "[encoded data removed]",
       "text": [
        "<matplotlib.figure.Figure at 0xbda5510>"
       ]
      }
     ],
     "prompt_number": 170
    },
    {
     "cell_type": "code",
     "collapsed": false,
     "input": [
      "xn"
     ],
     "language": "python",
     "metadata": {},
     "outputs": [
      {
       "metadata": {},
       "output_type": "pyout",
       "prompt_number": 171,
       "text": [
        "array([  1.09249303e-02,   1.58543833e+00,   3.52444777e+02,\n",
        "         2.82367452e+00,  -8.28107269e-01])"
       ]
      }
     ],
     "prompt_number": 171
    },
    {
     "cell_type": "markdown",
     "metadata": {},
     "source": [
      "#Aproksimacija s polinomi \u010cebi\u0161eva\n",
      "\n",
      "Polinomi \u010cebi\u0161eva so ortogonalni polinomi na intervalu $[-1,1]$."
     ]
    },
    {
     "cell_type": "code",
     "collapsed": false,
     "input": [
      "#\u010cebi\u0161eve to\u010dke/ni\u010dle \u010cebi\u0161evih polinomov\n",
      "n=10\n",
      "fi = linspace(0,pi,n+1)\n",
      "x = cos(fi)\n",
      "plot(x,zeros_like(x),'*')\n",
      "plot(x,sin(fi),'r*')"
     ],
     "language": "python",
     "metadata": {},
     "outputs": [
      {
       "metadata": {},
       "output_type": "pyout",
       "prompt_number": 67,
       "text": [
        "[<matplotlib.lines.Line2D at 0x7ff44d0>]"
       ]
      },
      {
       "metadata": {},
       "output_type": "display_data",
       "png": "[encoded data removed]",
       "text": [
        "<matplotlib.figure.Figure at 0x7ff43d0>"
       ]
      }
     ],
     "prompt_number": 67
    },
    {
     "cell_type": "markdown",
     "metadata": {},
     "source": [
      "Interpolacija je precej bolj stabilna, \u010de ra\u010dunamo v \u010cebi\u0161evih to\u010dkah."
     ]
    },
    {
     "cell_type": "code",
     "collapsed": false,
     "input": [
      "n=2000\n",
      "f = lambda x: sign(x)\n",
      "t = linspace(-1,1,n+1)\n",
      "x = cos(linspace(0,pi,n+1))\n",
      "p1=polyfit(t,f(t),n)\n",
      "p2=polyfit(x,f(x),n)\n",
      "u = linspace(-1,1,100)\n",
      "#plot(u,f(u)-polyval(p1,u),'r')\n",
      "plot(u,f(u)-polyval(p2,u),'b')"
     ],
     "language": "python",
     "metadata": {},
     "outputs": [
      {
       "output_type": "stream",
       "stream": "stderr",
       "text": [
        "/usr/lib/python2.7/dist-packages/numpy/lib/polynomial.py:585: RankWarning: Polyfit may be poorly conditioned\n",
        "  warnings.warn(msg, RankWarning)\n",
        "/usr/lib/python2.7/dist-packages/numpy/lib/polynomial.py:585: RankWarning: Polyfit may be poorly conditioned\n",
        "  warnings.warn(msg, RankWarning)\n"
       ]
      },
      {
       "metadata": {},
       "output_type": "pyout",
       "prompt_number": 113,
       "text": [
        "[<matplotlib.lines.Line2D at 0xabd4c50>]"
       ]
      },
      {
       "metadata": {},
       "output_type": "display_data",
       "png": "[encoded data removed]",
       "text": [
        "<matplotlib.figure.Figure at 0xac4a210>"
       ]
      }
     ],
     "prompt_number": 113
    },
    {
     "cell_type": "code",
     "collapsed": false,
     "input": [
      "plot(p2,'.')"
     ],
     "language": "python",
     "metadata": {},
     "outputs": [
      {
       "metadata": {},
       "output_type": "pyout",
       "prompt_number": 108,
       "text": [
        "[<matplotlib.lines.Line2D at 0xa44d090>]"
       ]
      },
      {
       "metadata": {},
       "output_type": "display_data",
       "png": "[encoded data removed]",
       "text": [
        "<matplotlib.figure.Figure at 0xa280bd0>"
       ]
      }
     ],
     "prompt_number": 108
    },
    {
     "cell_type": "code",
     "collapsed": false,
     "input": [
      "from numpy.polynomial.chebyshev import Chebyshev as T"
     ],
     "language": "python",
     "metadata": {},
     "outputs": [],
     "prompt_number": 86
    },
    {
     "cell_type": "code",
     "collapsed": false,
     "input": [
      "T.basis(2)"
     ],
     "language": "python",
     "metadata": {},
     "outputs": [
      {
       "metadata": {},
       "output_type": "pyout",
       "prompt_number": 91,
       "text": [
        "Chebyshev([ 0.,  0.,  1.], [-1.,  1.], [-1.,  1.])"
       ]
      }
     ],
     "prompt_number": 91
    },
    {
     "cell_type": "code",
     "collapsed": false,
     "input": [
      "p=T.fit(x,f(x),n)"
     ],
     "language": "python",
     "metadata": {},
     "outputs": [],
     "prompt_number": 114
    },
    {
     "cell_type": "code",
     "collapsed": false,
     "input": [
      "plot(p.coef,'.')"
     ],
     "language": "python",
     "metadata": {},
     "outputs": [
      {
       "metadata": {},
       "output_type": "pyout",
       "prompt_number": 115,
       "text": [
        "[<matplotlib.lines.Line2D at 0xab8ab90>]"
       ]
      },
      {
       "metadata": {},
       "output_type": "display_data",
       "png": "[encoded data removed]",
       "text": [
        "<matplotlib.figure.Figure at 0xaa99a50>"
       ]
      }
     ],
     "prompt_number": 115
    },
    {
     "cell_type": "code",
     "collapsed": false,
     "input": [
      "plot(u,f(u)-p(u))"
     ],
     "language": "python",
     "metadata": {},
     "outputs": [
      {
       "metadata": {},
       "output_type": "pyout",
       "prompt_number": 116,
       "text": [
        "[<matplotlib.lines.Line2D at 0xabac550>]"
       ]
      },
      {
       "metadata": {},
       "output_type": "display_data",
       "png": "[encoded data removed]",
       "text": [
        "<matplotlib.figure.Figure at 0xaaa7f50>"
       ]
      }
     ],
     "prompt_number": 116
    },
    {
     "cell_type": "code",
     "collapsed": false,
     "input": [
      "p.roots()"
     ],
     "language": "python",
     "metadata": {},
     "outputs": [
      {
       "metadata": {},
       "output_type": "pyout",
       "prompt_number": 105,
       "text": [
        "array([-0.70652795+0.j        ,  3.35326398-1.22228073j,\n",
        "        3.35326398+1.22228073j])"
       ]
      }
     ],
     "prompt_number": 105
    },
    {
     "cell_type": "code",
     "collapsed": false,
     "input": [],
     "language": "python",
     "metadata": {},
     "outputs": []
    }
   ],
   "metadata": {}
  }
 ]
}