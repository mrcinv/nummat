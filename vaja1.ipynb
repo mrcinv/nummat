{
 "metadata": {
  "name": ""
 },
 "nbformat": 3,
 "nbformat_minor": 0,
 "worksheets": [
  {
   "cells": [
    {
     "cell_type": "markdown",
     "metadata": {},
     "source": [
      "# Napake, stabilnost\n",
      "Ogledali si bomo od kod pridejo napake pri numeri\u010dnih izra\u010dunih in kako lahko zaokro\u017eitvene napake povsem pokvarijo kon\u010dni rezultat.\n",
      "Nadalnje branje [prvo poglavje Plestenjakove skripte](http://www-lp.fmf.uni-lj.si/plestenjak/vaje/nafgg/Predavanja/Knjiga_NM.pdf)"
     ]
    },
    {
     "cell_type": "markdown",
     "metadata": {},
     "source": [
      "## Vaja 1\n",
      "Oceni neodstranljivo napako, napako metode in zaokro\u017eitvene napake pri ra\u010dunanju $\\sin(\\pi/10)$ s polinomom $x-x^3/6$ in uporabi \u0161tevilskega tipa *double* (64 bitno \u0161tevilo s plavajo\u010do vejico).\n",
      "\n",
      "## Re\u0161itev\n",
      "\n",
      "### Neodstranljiva napaka\n",
      "Neodstranljivo napako lahko enostavno ocenimo s pomo\u010djo odvoda. Ker \u0161tevilo $\\pi/10$ ni predstavljivo z binarnim zapisom, v resnici ra\u010dunamo s \u0161tevilom $\\hat{x}$, ki se od $\\pi/10$ relativno razlikuje za nek $\\delta$, ki je manj\u0161i od osnovne zaokro\u017eitvene napake ($2^{-54}$ kar je pribli\u017eno $10^{-16}$). \n",
      "\n",
      "Neodstranljivo napako dobimo zato, ker namesto $\\sin(\\pi/10)$ ra\u010dunamo $\\sin(\\pi/10(1+\\delta))$. Napako, ki jo pri tem naredimo, lahko ocenimo s pomo\u010djo odvoda. Pomagamo si s formulo za ostnek [Taylorjeve vrste](http://en.wikipedia.org/wiki/Taylor%27s_theorem#Explicit_formulae_for_the_remainder)\n",
      "\n",
      "$$ f(x+h)-f(x) = hf'(\\xi)\\quad \\xi\\in (x-h,x+h)$$\n",
      "\n",
      "\u010ce uporabimo, da je $|\\cos(x)|\\le 1$, dobimo oceno za absolutno napako\n",
      "\n",
      "$$|\\sin(x(1+\\delta))-\\sin(x)|=|\\delta x\\cos(x\\xi)|\\le x\\delta \\le\\delta, $$\n",
      "\n",
      "od koder sledi ocena za relativno napako \n",
      "\n",
      "$$\\left|\\frac{\\sin(x(1+\\delta))-\\sin(x)}{\\sin(x)}\\right|\\le \\frac{x}{\\sin(x)}\\delta\\le \\delta,$$\n",
      "\n",
      "saj je $\\frac{x}{\\sin(x)}$ vedno manj\u0161i kot 1. \n",
      "\n",
      "Neodstranljiva napaka pri ra\u010dunanju funkcije $\\sin$ je torej vedno manj\u0161a kot osnovna zaokro\u017eitvena napaka. To je posledica dejstev, da je $|\\sin(x)|\\le x$ in $|\\sin'(x)|\\le 1$."
     ]
    },
    {
     "cell_type": "markdown",
     "metadata": {},
     "source": [
      "### Napaka metode\n",
      "Pri ocenjevanju napake metode, si zopet pomagamo s oceno z aostanek Taylorjeve vrste. Formulo\n",
      "\n",
      "$$\\sin(x) \\simeq x - x^3/6$$ \n",
      "\n",
      "namre\u010d dobimo iz razvoja funkcije $\\sin$ v Taylorjevo vrsto okrog to\u010dke $0$\n",
      "\n",
      "$$\\sin(x) = x - x^3/6 + x^5/(5!) - x^7/(7!) + ...$$\n",
      "\n",
      "[Formula za ostanek](http://en.wikipedia.org/wiki/Taylor%27s_theorem#Explicit_formulae_for_the_remainder) \n",
      "$$R_3(x) =  x^5/(5!) - x^7/(7!) + ...$$\n",
      "\n",
      "je zelo podobna prvemu \u010dlenu v ostanku\n",
      "\n",
      "$$R_3(x) = f^{(5)}(\\xi)x^5/(5!)=\\frac{\\cos(\\xi)x^5}{120}\\le \\frac{x^5}{120},\\quad \\xi\\in(0,x)$$"
     ]
    },
    {
     "cell_type": "code",
     "collapsed": false,
     "input": [
      "# ocena za napako metode dobimo, \u010de namesto xi, vstavimo kar \\pi/10\n",
      "from math import pi,factorial\n",
      "R = (pi/10)**5/factorial(5)\n",
      "print \"Ocena za napako metode je\", R"
     ],
     "language": "python",
     "metadata": {},
     "outputs": [
      {
       "output_type": "stream",
       "stream": "stdout",
       "text": [
        "Ocena za napako metode je 2.55016403988e-05\n"
       ]
      }
     ],
     "prompt_number": 33
    },
    {
     "cell_type": "markdown",
     "metadata": {},
     "source": [
      "V primerjavi z neodstranljivo napako, je napaka metode bistveno ve\u010dja in predstavlja glavni del napake."
     ]
    },
    {
     "cell_type": "markdown",
     "metadata": {},
     "source": [
      "### Zaokro\u017eitvene napake\n",
      "\u010ce vrednosti polinoma $p(x)=\\sum_{i=0}^n a_ix^i$ stopnje $n$ ra\u010dunamo s Hornejevim postopkom, lahko zaokro\u017eitvene napake ocenimo s formulo\n",
      "\n",
      "$$\\left|\\frac{\\hat{p}-p}{p}\\right|\\le 2n\\frac{\\sum|a_i||x^i|}{\\sum a_i x_i}u,$$\n",
      "\n",
      "kjer je $u$ osnovna zaokro\u017eitvena napaka. Glej poglavje [1.6.3](http://www-lp.fmf.uni-lj.si/plestenjak/vaje/nafgg/Predavanja/Knjiga_NM.pdf#page=22) v Plestenjakovi skripti. Glede na to, da je vrednost $p$ precej dale\u010d od ni\u010dle, zaokro\u017eitvena napaka ne bo bistveno presegla osnovne zaokro\u017eitvene napake."
     ]
    },
    {
     "cell_type": "code",
     "collapsed": false,
     "input": [
      "# zaokro\u017eitvene napake pri ra\u010dunanju polinoma x-x^3/6\n",
      "x = pi/10\n",
      "Z = 2*3*(x+x**3)/(x-x**3)*2**(-54)\n",
      "print \"Ocena za zaokro\u017eitveno napako pri ra\u010dunanju polinoma\", Z"
     ],
     "language": "python",
     "metadata": {},
     "outputs": [
      {
       "output_type": "stream",
       "stream": "stdout",
       "text": [
        "Ocena za zaokro\u017eitveno napako pri ra\u010dunanju polinoma 4.06010970113e-16\n"
       ]
      }
     ],
     "prompt_number": 34
    },
    {
     "cell_type": "code",
     "collapsed": false,
     "input": [
      "# celotna napaka\n",
      "x = pi/10\n",
      "p = x*(1-x*x/6)\n",
      "N = sin(x)-p\n",
      "print \"Napaka metode in zaokro\u017eitvena napaka pri ra\u010dunanju sin(pi/10)\", N "
     ],
     "language": "python",
     "metadata": {},
     "outputs": [
      {
       "output_type": "stream",
       "stream": "stdout",
       "text": [
        "Napaka metode in zaokro\u017eitvena napaka pri ra\u010dunanju sin(pi/10) 2.5441796018e-05\n"
       ]
      }
     ],
     "prompt_number": 36
    },
    {
     "cell_type": "markdown",
     "metadata": {},
     "source": [
      "## Vaja 2\n",
      "Izra\u010dunaj vrednost \u0161tevila $e$ (osnova naravneg alogaritma) z uporabo definicije z limito\n",
      "\n",
      "$$e=\\lim_{n\\to\\infty}(1+\\frac{1}{n})^n.$$"
     ]
    },
    {
     "cell_type": "code",
     "collapsed": false,
     "input": [
      "# \u0161tevilo e lahko dobimo z uporabo funkcije exp\n",
      "e = exp(1)\n",
      "print e"
     ],
     "language": "python",
     "metadata": {},
     "outputs": [
      {
       "output_type": "stream",
       "stream": "stdout",
       "text": [
        "2.71828182846\n"
       ]
      }
     ],
     "prompt_number": 38
    },
    {
     "cell_type": "markdown",
     "metadata": {},
     "source": [
      "## Re\u0161itev\n",
      "Ker zaporedje, ki nastopa v definiciji \u0161tevila $e$, po\u010dasi konvergira, namesto $n$ vstavimo zaporedne potence \u0161tevila $10$."
     ]
    },
    {
     "cell_type": "code",
     "collapsed": false,
     "input": [
      "n = 10.0**arange(20)\n",
      "zap = (1+1/n)**n\n",
      "print zap\n",
      "print zap-e"
     ],
     "language": "python",
     "metadata": {},
     "outputs": [
      {
       "output_type": "stream",
       "stream": "stdout",
       "text": [
        "[ 2.          2.59374246  2.70481383  2.71692393  2.71814593  2.71826824\n",
        "  2.71828047  2.71828169  2.7182818   2.71828205  2.71828205  2.71828205\n",
        "  2.7185235   2.71611003  2.71611003  3.03503521  1.          1.          1.\n",
        "  1.        ]\n",
        "[ -7.18281828e-01  -1.24539368e-01  -1.34679990e-02  -1.35789622e-03\n",
        "  -1.35901634e-04  -1.35912667e-05  -1.35936329e-06  -1.34326963e-07\n",
        "  -3.01116874e-08   2.23552515e-07   2.24775742e-07   2.24898065e-07\n",
        "   2.41667578e-04  -2.17179437e-03  -2.17179437e-03   3.16753378e-01\n",
        "  -1.71828183e+00  -1.71828183e+00  -1.71828183e+00  -1.71828183e+00]\n"
       ]
      }
     ],
     "prompt_number": 43
    },
    {
     "cell_type": "code",
     "collapsed": false,
     "input": [
      "# Napaka najprej pada, nato pa zopet nara\u0161\u010dati\n",
      "plot(log(abs(zap-e)),'.')"
     ],
     "language": "python",
     "metadata": {},
     "outputs": [
      {
       "metadata": {},
       "output_type": "pyout",
       "prompt_number": 44,
       "text": [
        "[<matplotlib.lines.Line2D at 0x4ce6550>]"
       ]
      },
      {
       "metadata": {},
       "output_type": "display_data",
       "png": "[encoded data removed]",
       "text": [
        "<matplotlib.figure.Figure at 0x4a8c690>"
       ]
      }
     ],
     "prompt_number": 44
    },
    {
     "cell_type": "markdown",
     "metadata": {},
     "source": [
      "V formuli \n",
      "\n",
      "$$ (1+\\frac{1}{n})^n $$ \n",
      "\n",
      "se napaka, ki jo naredimo pri ra\u010dunanju $\\frac{1}{n}$ potencira z $n$. Pri velikih $n$, ja ta napaka tako velika, da povsem pokvari rezultat. \n",
      "\n",
      "Napako lahko v veliki meri odpravimo, \u010de namesto potenc \u0161tevila $10$ uporabimo potence \u0161tevila $2$, pri katerih ne pride do zaokro\u017eitvene napake pri ra\u010dunanju $2^{-n}$. Kljub temu pa pride do prekora\u010ditve obsega.   "
     ]
    },
    {
     "cell_type": "code",
     "collapsed": false,
     "input": [
      "# potence \u0161tevila 2 se malce bolje obna\u0161ajo\n",
      "n = 2.0**arange(60)\n",
      "zap = (1+1/n)**n\n",
      "print zap\n",
      "print zap-e"
     ],
     "language": "python",
     "metadata": {},
     "outputs": [
      {
       "output_type": "stream",
       "stream": "stdout",
       "text": [
        "[ 2.          2.25        2.44140625  2.56578451  2.6379285   2.67699013\n",
        "  2.69734495  2.70773902  2.71299162  2.715632    2.71695573  2.71761848\n",
        "  2.71795008  2.71811594  2.71819888  2.71824035  2.71826109  2.71827146\n",
        "  2.71827664  2.71827924  2.71828053  2.71828118  2.7182815   2.71828167\n",
        "  2.71828175  2.71828179  2.71828181  2.71828182  2.71828182  2.71828183\n",
        "  2.71828183  2.71828183  2.71828183  2.71828183  2.71828183  2.71828183\n",
        "  2.71828183  2.71828183  2.71828183  2.71828183  2.71828183  2.71828183\n",
        "  2.71828183  2.71828183  2.71828183  2.71828183  2.71828183  2.71828183\n",
        "  2.71828183  2.71828183  2.71828183  2.71828183  2.71828183  1.          1.\n",
        "  1.          1.          1.          1.          1.        ]\n",
        "[ -7.18281828e-01  -4.68281828e-01  -2.76875578e-01  -1.52497315e-01\n",
        "  -8.03533311e-02  -4.12916991e-02  -2.09368759e-02  -1.05428088e-02\n",
        "  -5.29020421e-03  -2.64982829e-03  -1.32609899e-03  -6.63346122e-04\n",
        "  -3.31747269e-04  -1.65892193e-04  -8.29507371e-05  -4.14765288e-05\n",
        "  -2.07385544e-05  -1.03693497e-05  -5.18469300e-06  -2.59235103e-06\n",
        "  -1.29617665e-06  -6.48088608e-07  -3.24044374e-07  -1.62022205e-07\n",
        "  -8.10111067e-08  -4.05055545e-08  -2.02527772e-08  -1.01263886e-08\n",
        "  -5.06319431e-09  -2.53159715e-09  -1.26579858e-09  -6.32899066e-10\n",
        "  -3.16449533e-10  -1.58224545e-10  -7.91122723e-11  -3.95559141e-11\n",
        "  -1.97779570e-11  -9.88897852e-12  -4.94448926e-12  -2.47224463e-12\n",
        "  -1.23590027e-12  -6.17728091e-13  -3.09086090e-13  -1.54543045e-13\n",
        "  -7.72715225e-14  -3.86357613e-14  -1.90958360e-14  -9.32587341e-15\n",
        "  -4.88498131e-15  -2.22044605e-15  -8.88178420e-16  -4.44089210e-16\n",
        "   0.00000000e+00  -1.71828183e+00  -1.71828183e+00  -1.71828183e+00\n",
        "  -1.71828183e+00  -1.71828183e+00  -1.71828183e+00  -1.71828183e+00]\n"
       ]
      }
     ],
     "prompt_number": 48
    },
    {
     "cell_type": "code",
     "collapsed": false,
     "input": [
      "plot(log(abs(zap-e)),'.')"
     ],
     "language": "python",
     "metadata": {},
     "outputs": [
      {
       "output_type": "stream",
       "stream": "stderr",
       "text": [
        "-c:1: RuntimeWarning: divide by zero encountered in log\n"
       ]
      },
      {
       "metadata": {},
       "output_type": "pyout",
       "prompt_number": 47,
       "text": [
        "[<matplotlib.lines.Line2D at 0x4f3ecd0>]"
       ]
      },
      {
       "metadata": {},
       "output_type": "display_data",
       "png": "[encoded data removed]",
       "text": [
        "<matplotlib.figure.Figure at 0x4314450>"
       ]
      }
     ],
     "prompt_number": 47
    }
   ],
   "metadata": {}
  }
 ]
}