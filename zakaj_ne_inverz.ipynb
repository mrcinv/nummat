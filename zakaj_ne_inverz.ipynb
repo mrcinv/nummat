{
 "metadata": {
  "name": ""
 },
 "nbformat": 3,
 "nbformat_minor": 0,
 "worksheets": [
  {
   "cells": [
    {
     "cell_type": "markdown",
     "metadata": {},
     "source": [
      "# Deset razlogov, zakaj ne ra\u010dunati inverza (numeri\u010dno)\n",
      "\n",
      "##Numeri\u010dna herezija\n",
      "V numeri\u010dni matematiki velja prepri\u010danje, da je *numeri\u010dno* ra\u010dunanje inverza nepotrebno po\u010detje, ki vodi naravnost v numeri\u010dni pekel. Pot v numeri\u010dni pekel sicer [ni tako direktna](http://arxiv.org/abs/1201.6035), kot sku\u0161ajo nekateri predstaviti, veliko razlogov za numeri\u010dni izra\u010dun inverza pa tudi ni.\n",
      "\n",
      "Z uporabo inverza si boste prislu\u017eili mrke poglede asistentov in godrnjanje profesorjev. Zakaj bi spravljali v slabo voljo sicer prijazne ljudi? "
     ]
    },
    {
     "cell_type": "markdown",
     "metadata": {},
     "source": [
      "##Coolnes faktor\n",
      "\n",
      "\u010ce boste namesto inverza uporabili npr. LU, QR ali celo razcep Choleskega, bo va\u0161a koda izgledala precej bolj u\u010deno. Iz kode bo jasno razvidno, da veste kaj po\u010dnete in da dolga leta \u0161tudija niso bila zaman. Pa \u0161e fency besede kot npr. *obratno vstavljanje*, *Cholesky*, *pozitivno definitna*, ki jih va\u0161i kolegi ne bodo razumeli, se bodo svetile v va\u0161ih komentarjih.  "
     ]
    },
    {
     "cell_type": "code",
     "collapsed": false,
     "input": [
      "# re\u0161imo sistem A*x=b\n",
      "x = inv(A).dot(b)"
     ],
     "language": "python",
     "metadata": {},
     "outputs": []
    },
    {
     "cell_type": "code",
     "collapsed": false,
     "input": [
      "# re\u0161imo sistem A*x=b, A je simetri\u010dna, pozitivno definitna, zato lahko uporabimo razcep Choleskega\n",
      "R = linalg.chol(A) # A = R.T.dot(R)\n",
      "# direktno vstavljanje\n",
      "y = linalg.solve(R.T,b)\n",
      "# obratno vstavljanje\n",
      "x = linalg.solve(R,y)"
     ],
     "language": "python",
     "metadata": {},
     "outputs": []
    },
    {
     "cell_type": "code",
     "collapsed": false,
     "input": [],
     "language": "python",
     "metadata": {},
     "outputs": []
    },
    {
     "cell_type": "markdown",
     "metadata": {},
     "source": [
      "## V 99,9% primerih inverzne matrike \u010disto zares ne potrebujete\n",
      "\n",
      "Kljub temu, da sta zgornja dva razloga v glavnem najbolj relevantna, omenimo \u0161e druge. Ne boste verjeli, a v resnici razlogov zakaj bi numeri\u010dno ra\u010dunali inverz, ni veliko. V literaturi boste te\u017eko na\u0161li primere, ko je numeri\u010dno ra\u010dunanje inverza najbolj\u0161a pot do re\u0161itve problema. Primerov, ko to ni je pa kar veliko. "
     ]
    },
    {
     "cell_type": "markdown",
     "metadata": {},
     "source": [
      "# "
     ]
    },
    {
     "cell_type": "markdown",
     "metadata": {},
     "source": [
      "## Re\u0161evanje sistema $Ax=b$\n",
      "\n",
      "Razlog zakaj ne ra\u010dunati inverza je preprost. Algoritmi za re\u0161evanje sistema $Ax=b$ so za red velikosti hitrej\u0161i od ra\u010dunanja inverza. Velika verjetnost, da va\u0161 programski jezik uporablja knji\u017enico LAPACK tako za ra\u010dunanje inverza kot za re\u0161evanje sistema. V tem primeru bo tako za re\u0161evanje sistema $Ax=b$ in kot tudi inverza $A^{-1}$ izra\u010dunan LU razcep s pivotiranjem.  Razlika bo le ta, da se bo bo pri ra\u010dunanju inverza direktno in obratno vstavljanje ponovilo tolikokrat, kolikor je dimenzija matrike.\n",
      "\n",
      "### Kaj pa \u010de je treba re\u0161evanje sitema ponoviti v zanki\n",
      "V tem primeru se zagotovo spla\u010da enkrat izra\u010dunati inverz in nato le mno\u017eiti z njim."
     ]
    },
    {
     "cell_type": "code",
     "collapsed": false,
     "input": [
      "M = inv(A)\n",
      "while pogoj:\n",
      "    x= M*x\n",
      "    x=x/norm(x)"
     ],
     "language": "python",
     "metadata": {},
     "outputs": []
    },
    {
     "cell_type": "markdown",
     "metadata": {},
     "source": [
      "Namesto inverza lahko naredimo LU razcep(tako ga bo LAPACK naredil tudi pri inverzu). Re\u0161evanje sistemov $Ly=b$ in $Ux=y$ je ravno tako hitro kot mno\u017eenje z matriko."
     ]
    },
    {
     "cell_type": "code",
     "collapsed": false,
     "input": [
      "P,L,U = scipy.linalg.lu(A)\n",
      "while pogoj:\n",
      "    x = numpy.linalg.solve(L,P.dot(x)) # direktno vstavljanje\n",
      "    x = scipy.linalg.solve_triangular(U,x) # obratno vstavljanje\n",
      "    x = x/norm(x)"
     ],
     "language": "python",
     "metadata": {},
     "outputs": []
    },
    {
     "cell_type": "markdown",
     "metadata": {},
     "source": [
      "Zgornja koda je v resnici po\u010dasnej\u0161e kot inverzna matrika, saj numpy.linalg.solve ne zna prepoznati zgornje trikotne matrike. Zato je smiselnost uporabe inverza zelo odvisna od implementacije v programskem jeziku.\n"
     ]
    },
    {
     "cell_type": "code",
     "collapsed": false,
     "input": [
      "P,L,U = scipy.linalg.lu(A)\n",
      "while pogoj:\n",
      "    x = scipy.linalg.solve_triangular(L,P.dot(x)) # direktno vstavljanje\n",
      "    x = scipy.linalg.solve_triangular(U,x) # obratno vstavljanje\n",
      "    x = x/norm(x)"
     ],
     "language": "python",
     "metadata": {},
     "outputs": []
    },
    {
     "cell_type": "markdown",
     "metadata": {},
     "source": [
      "## Ampak v algoritmu pi\u0161e izra\u010dunaj $A^{-1}x$\n",
      "\n",
      "\u017de mogo\u010de, a to \u0161e ne pomeni, da je treba v resnici izra\u010dunati $A^{-1}$. \u010ce \u017eelimo izra\u010dunati $A^{-1}x$ je dovolj poiskati re\u0161itev sistema $Ay=x$, kar je bistveno hitreje kot ra\u010dunanje inverza."
     ]
    },
    {
     "cell_type": "code",
     "collapsed": false,
     "input": [
      "# A^(-1)*x\n",
      "solve(A,x) # je bolje kot inv(A)*x"
     ],
     "language": "python",
     "metadata": {},
     "outputs": []
    },
    {
     "cell_type": "markdown",
     "metadata": {},
     "source": [
      "## Razpr\u0161ene matrike\n",
      "\n",
      "To so take matrike z veliko ni\u010dlami. Kar je posebno imenitno, saj lahko hranimo le neni\u010delne vrednosti in ni  treba pokupiti vseh diskov in vodno hladiti spomina RAM. \u017dal inverzna matrika ne podeduje te lepe lastnosti.\n",
      "\n",
      "Predstavljate, da ste zaposleni pri Facebooku in vam dajo matriko povezanosti med ljudmi. Dimenzije matrike so pribli\u017eno $7\\cdot 10^9\\times7\\cdot 10^9$. Na sre\u010do vsak posameznik ni v stiku z ve\u010d kot nekaj 100 ljudmi, zato je dejanskih podatkov le $\\sim 10^{11}$. Pogovor na internem sestanku gre nekako takole\n",
      "\n",
      "    \u201eInverz bi moral izra\u010dunati izra\u010dunati.\u201c \n",
      "    \u201eInverz??!! Si prepri\u010dan?\u201c\n",
      "    \u201eHm, Ja?\u201c\n",
      "    \u201eOk, ampak to mora odobriti upravni odbor.\u201c\n",
      "    \u201eVerjetno bo treba zgraditi nov datacenter\u201c\n",
      "    \u201e\u010ce se to razve, bodo delnice strmoglavile\u201c\n",
      "\n",
      "    \u201eKhm, pardon, samo sistem moram re\u0161iti\u201c\n",
      "    \u201eUf, samo to, hvala bogu, da ni inverza\u201c\n"
     ]
    },
    {
     "cell_type": "markdown",
     "metadata": {},
     "source": [
      "## Ne prepisuj formul dobesedno\n",
      "\n",
      "Ve\u010dinoma nimamo  kaj pomeni klic funkcije *inv(A)* To je seveda odvisno od matrike, ra\u010dunalnika in \u010dasa, ki ga imamo na voljo. Tudi, \u010de ne znamo zaobiti klica funkcije *inv*, se moramo zavedati, da je za velike matrike \u010dasovno in prostorsko potratna. V poduk naj vam bo tale program\u010dek, ki implementira *inverzno iteracijo* za iskanje najmanj\u0161e lastne vrednosti. Iteracijo lahko kompaktno opi\u0161emo z rekurzivno formulo\n",
      "\n",
      "$$x^{(n+1)}=\\frac{A^{-1}x^{(n)}}{||A^{-1}x^{(n)}||}$$"
     ]
    },
    {
     "cell_type": "code",
     "collapsed": false,
     "input": [
      "A = random.rand(500,500)\n",
      "x0 = random.rand(500,1)"
     ],
     "language": "python",
     "metadata": {},
     "outputs": [],
     "prompt_number": 33
    },
    {
     "cell_type": "code",
     "collapsed": false,
     "input": [
      "%%timeit\n",
      "x = x0\n",
      "# inverzna iteracija\n",
      "for i in range(10):\n",
      "    x=(inv(A).dot(x))/norm(inv(A).dot(x))"
     ],
     "language": "python",
     "metadata": {},
     "outputs": [
      {
       "output_type": "stream",
       "stream": "stdout",
       "text": [
        "1 loops, best of 3: 820 ms per loop\n"
       ]
      }
     ],
     "prompt_number": 35
    },
    {
     "cell_type": "code",
     "collapsed": false,
     "input": [
      "%%timeit \n",
      "x = x0\n",
      "# inverzna iteracija\n",
      "M = inv(A)\n",
      "for i in range(10):\n",
      "    x = M.dot(x)\n",
      "    x = x/norm(x)"
     ],
     "language": "python",
     "metadata": {},
     "outputs": [
      {
       "output_type": "stream",
       "stream": "stdout",
       "text": [
        "10 loops, best of 3: 41 ms per loop\n"
       ]
      }
     ],
     "prompt_number": 36
    },
    {
     "cell_type": "code",
     "collapsed": false,
     "input": [
      "import scipy.linalg"
     ],
     "language": "python",
     "metadata": {},
     "outputs": [],
     "prompt_number": 37
    },
    {
     "cell_type": "code",
     "collapsed": false,
     "input": [
      "%%timeit\n",
      "x = x0\n",
      "# inverzna iteracija\n",
      "LU = scipy.linalg.lu_factor(A)\n",
      "for i in range(10):\n",
      "    x = scipy.linalg.lu_solve(LU,x)\n",
      "    x = x/norm(x)"
     ],
     "language": "python",
     "metadata": {},
     "outputs": [
      {
       "output_type": "stream",
       "stream": "stdout",
       "text": [
        "10 loops, best of 3: 15.9 ms per loop\n"
       ]
      }
     ],
     "prompt_number": 38
    },
    {
     "cell_type": "markdown",
     "metadata": {},
     "source": [
      "Hitrost je odvisna od konkretne implementacije algoritma."
     ]
    },
    {
     "cell_type": "code",
     "collapsed": false,
     "input": [
      "%%timeit\n",
      "x = x0\n",
      "# inverzna iteracija\n",
      "P,L,U = scipy.linalg.lu(A)\n",
      "for i in range(10):\n",
      "    x = scipy.linalg.solve_triangular(L,P.dot(x))\n",
      "    x = scipy.linalg.solve_triangular(U,x)\n",
      "    x = x/norm(x)"
     ],
     "language": "python",
     "metadata": {},
     "outputs": [
      {
       "output_type": "stream",
       "stream": "stdout",
       "text": [
        "10 loops, best of 3: 42.7 ms per loop\n"
       ]
      }
     ],
     "prompt_number": 39
    },
    {
     "cell_type": "markdown",
     "metadata": {},
     "source": [
      "## Kdaj vendarle lahko uporabimo inverz\n",
      "Nikoli! Kot sem \u017ee v uvodu omenil je te\u017eko najti primer, ko bi bilo numeri\u010dno ra\u010dunanje inverza upravi\u010deno. Kljub vsemu vam nebo ne bo padlo na glavo, \u010de boste to kljub vsemu kdaj storili. Na\u0161tejem lahko nekaj primerov, ko je *varno* uporabiti inverz\n",
      "\n",
      " * v jeziku, ki ga uporabljamo ni implementirane smiselne alternative\n",
      " * matrike niso velike\n",
      " * za razliko od numeri\u010dnega je simboli\u010dni inverz \u010disto uporaben\n",
      " * ni te\u017eav s prostorom ali hitrostjo\n",
      " * algoritem dela, kot ste pri\u010dakovali"
     ]
    },
    {
     "cell_type": "code",
     "collapsed": false,
     "input": [],
     "language": "python",
     "metadata": {},
     "outputs": []
    }
   ],
   "metadata": {}
  }
 ]
}