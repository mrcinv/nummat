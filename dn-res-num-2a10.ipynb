{
 "metadata": {
  "name": ""
 },
 "nbformat": 3,
 "nbformat_minor": 0,
 "worksheets": [
  {
   "cells": [
    {
     "cell_type": "heading",
     "level": 1,
     "metadata": {},
     "source": [
      "Doma\u010de naloge - asistentove re\u0161itve"
     ]
    },
    {
     "cell_type": "heading",
     "level": 2,
     "metadata": {},
     "source": [
      "2. Doma\u010da naloga "
     ]
    },
    {
     "cell_type": "markdown",
     "metadata": {},
     "source": [
      "Napi\u0161i funkcijo, ki izra\u010duna porazdelitveno funkcijo $\\Phi(x)=P(X<x)$ za slu\u010dajno spremenljivko $X~N(0,1)$ porazdeljeno standardno normalno. Po definiciji je \n",
      "\n",
      "$$\\Phi(x)=\\frac{1}{\\sqrt{2\\pi}}\\int_{-\\infty}^x e^{-\\frac{x^2}{2}}$$.\n",
      "\n",
      "## Poenostavitve\n",
      "\n",
      "Ker je gostota simetri\u010dna, velja $\\Phi(0)=\\frac{1}{2}$ in $\\Phi(-x)=1-\\Phi(x)$, zato je dovolj, \u010de znamo izra\u010dunati $\\Phi$ na intervalu $(0,\\infty)$. Poleg tega je $1-\\Phi(x)<10^{-11}$ za $x>8$. Tako je dovolj pokriti interval $(0,8]$. "
     ]
    },
    {
     "cell_type": "code",
     "collapsed": false,
     "input": [
      "t=linspace(0,25)\n",
      "plot(t,3*t,t,t**2/2)"
     ],
     "language": "python",
     "metadata": {},
     "outputs": [
      {
       "metadata": {},
       "output_type": "pyout",
       "prompt_number": 6,
       "text": [
        "[<matplotlib.lines.Line2D at 0x32b7690>,\n",
        " <matplotlib.lines.Line2D at 0x32b78d0>]"
       ]
      },
      {
       "metadata": {},
       "output_type": "display_data",
       "png": "[encoded data removed]",
       "text": [
        "<matplotlib.figure.Figure at 0x3051610>"
       ]
      }
     ],
     "prompt_number": 6
    },
    {
     "cell_type": "code",
     "collapsed": false,
     "input": [
      "#exp(-3*x)>exp(-x^2/2) za x>7. Za katere x je 1/sqrt(3*pi)exp(-x)<10^{-11}?\n",
      "-log(1e-11*sqrt(2*pi))/3"
     ],
     "language": "python",
     "metadata": {},
     "outputs": [
      {
       "metadata": {},
       "output_type": "pyout",
       "prompt_number": 7,
       "text": [
        "8.1364991632432773"
       ]
      }
     ],
     "prompt_number": 7
    },
    {
     "cell_type": "markdown",
     "metadata": {},
     "source": [
      "## Metoda 1: Gauss-Legendrove kvadrature\n",
      "Najbolj o\u010ditno je integral izra\u010dunati kar z Gauss-Laguerrovimi kvadraturami."
     ]
    },
    {
     "cell_type": "code",
     "collapsed": false,
     "input": [
      "fixed_quad(lambda t: exp(-t**2/2),0,4,n=7)"
     ],
     "language": "python",
     "metadata": {},
     "outputs": [
      {
       "metadata": {},
       "output_type": "pyout",
       "prompt_number": 13,
       "text": [
        "(1.2532358627005611, None)"
       ]
      }
     ],
     "prompt_number": 13
    },
    {
     "cell_type": "code",
     "collapsed": false,
     "input": [
      "# Gauss-Laguerrove kvadrature\n",
      "from scipy.integrate import fixed_quad\n",
      "phi = lambda x,n: 0.5 + 1/sqrt(2*pi)*fixed_quad(lambda t: exp(-t**2/2),0,x,n=n)[0] "
     ],
     "language": "python",
     "metadata": {},
     "outputs": [],
     "prompt_number": 54
    },
    {
     "cell_type": "code",
     "collapsed": false,
     "input": [
      "# zmanj\u0161amo interval na katerem ra\u010dunamo\n",
      "phi(6.5,20)"
     ],
     "language": "python",
     "metadata": {},
     "outputs": [
      {
       "metadata": {},
       "output_type": "pyout",
       "prompt_number": 56,
       "text": [
        "0.99999999995984401"
       ]
      }
     ],
     "prompt_number": 56
    },
    {
     "cell_type": "code",
     "collapsed": false,
     "input": [
      "t = linspace(0,6.5)\n",
      "phi1 = vectorize(lambda x: phi(x,14))\n",
      "phi2 = vectorize(lambda x: phi(x,25))\n",
      "plot(t,log10(abs(phi1(t)-phi2(t))),t,log10(0.5e-10)*ones_like(t))"
     ],
     "language": "python",
     "metadata": {},
     "outputs": [
      {
       "output_type": "stream",
       "stream": "stderr",
       "text": [
        "-c:4: RuntimeWarning: divide by zero encountered in log10\n"
       ]
      },
      {
       "metadata": {},
       "output_type": "pyout",
       "prompt_number": 55,
       "text": [
        "[<matplotlib.lines.Line2D at 0x76dc550>,\n",
        " <matplotlib.lines.Line2D at 0x76dc790>]"
       ]
      },
      {
       "metadata": {},
       "output_type": "display_data",
       "png": "[encoded data removed]",
       "text": [
        "<matplotlib.figure.Figure at 0x75ea090>"
       ]
      }
     ],
     "prompt_number": 55
    },
    {
     "cell_type": "code",
     "collapsed": false,
     "input": [
      "phi_gl = phi1"
     ],
     "language": "python",
     "metadata": {},
     "outputs": [],
     "prompt_number": 76
    },
    {
     "cell_type": "markdown",
     "metadata": {},
     "source": [
      "Pri Gauss-Legendrovih kvadraturah potrbujemo 15 vozli\u0161\u010d in ravno toliko izra\u010dunov funkcije exp."
     ]
    },
    {
     "cell_type": "markdown",
     "metadata": {},
     "source": [
      "# Metoda 2: Interpolacija s Hermitovimi zlepki\n",
      "Hermitovi zlepki so kot nala\u0161\u010d, saj poznamo vrednost odvoda $\\Phi'(x)=\\frac{1}{\\sqrt{2\\pi}}e^{-x^2/2}$. Napaka interpolacije na intervalu \u0161irine $h$, je najve\u010d enaka \n",
      "\n",
      "$$\\frac{f^{(4)}(\\xi)}{24} \\max_{x\\in[0,h]} x^2(x-h)^2.$$\n",
      "\n",
      "funkcija $x^2(x-h)^2$ dose\u017ee maksimum v $h/2$, ki je enak $\\frac{h^4}{16}$. Tako lahko napako ocenimo z\n",
      "\n",
      "$$\\frac{f^{(4)}(\\xi)}{384}h^4$$\n",
      "\n",
      "Odvod je enak $\\frac{-1}{\\sqrt{2\\pi}}e^{-x^2/2} x (-3+x^2)$ in je omejen z $0.6$."
     ]
    },
    {
     "cell_type": "code",
     "collapsed": false,
     "input": [
      "#Hermitov zlepek\n",
      "plot(t,exp(-t**2/2)*t*(t**2-3)/sqrt(2*pi))"
     ],
     "language": "python",
     "metadata": {},
     "outputs": [
      {
       "metadata": {},
       "output_type": "pyout",
       "prompt_number": 58,
       "text": [
        "[<matplotlib.lines.Line2D at 0x7acc990>]"
       ]
      },
      {
       "metadata": {},
       "output_type": "display_data",
       "png": "[encoded data removed]",
       "text": [
        "<matplotlib.figure.Figure at 0x68d7610>"
       ]
      }
     ],
     "prompt_number": 58
    },
    {
     "cell_type": "code",
     "collapsed": false,
     "input": [
      "#\u0161irina intervala\n",
      "(384/0.6*0.5e-11)**0.25"
     ],
     "language": "python",
     "metadata": {},
     "outputs": [
      {
       "metadata": {},
       "output_type": "pyout",
       "prompt_number": 63,
       "text": [
        "0.007521206186172787"
       ]
      }
     ],
     "prompt_number": 63
    },
    {
     "cell_type": "code",
     "collapsed": false,
     "input": [
      "# \u0161tevilo to\u010dk, ki jih potrebujemo za 10 decimalk s hermitovo interpolacijo\n",
      "6.5/(384/0.6*0.5e-11)**0.25"
     ],
     "language": "python",
     "metadata": {},
     "outputs": [
      {
       "metadata": {},
       "output_type": "pyout",
       "prompt_number": 62,
       "text": [
        "864.2230832535606"
       ]
      }
     ],
     "prompt_number": 62
    },
    {
     "cell_type": "markdown",
     "metadata": {},
     "source": [
      "#Interpolacija v \u010cebi\u0161evih to\u010dkah\n",
      "\n",
      "Napaka interpolacije v \u010cebi\u0161evih to\u010dkah je omejena z\n",
      "\n",
      "$$\\frac{f^{(n+1)}(\\xi)}{(n+1)!}$$\n",
      "\n",
      "Maksimum $f^{(n+1)}$ je v na\u0161em primeru za sode odvode dose\u017een v 0. Vrednost odvoda v 0 lahko izra\u010dunamo iz razvoja vTaylorjevo vrsto:\n",
      "\n",
      "$$e^{-x^2/2} = \\sum\\frac{(-1)^kx^{2k}}{2^kk!} = \\sum f^{(2k)}(0)\\frac{x^{2k}}{(2k)!}$$\n",
      "\n",
      "torej je $|f^{(2k)}(0)|=\\frac{(2k)!}{2^kk!}$"
     ]
    },
    {
     "cell_type": "code",
     "collapsed": false,
     "input": [
      "from scipy.misc import factorial\n",
      "k = arange(20)\n",
      "plot(k,log10(2**k*factorial(k)),'*')\n",
      "plot(k,ones_like(k)*(10+log10(0.5)),'-')"
     ],
     "language": "python",
     "metadata": {},
     "outputs": [
      {
       "metadata": {},
       "output_type": "pyout",
       "prompt_number": 74,
       "text": [
        "[<matplotlib.lines.Line2D at 0x805a450>]"
       ]
      },
      {
       "metadata": {},
       "output_type": "display_data",
       "png": "[encoded data removed]",
       "text": [
        "<matplotlib.figure.Figure at 0x805a610>"
       ]
      }
     ],
     "prompt_number": 74
    },
    {
     "cell_type": "markdown",
     "metadata": {},
     "source": [
      "Vidimo, da bi moralo 20 to\u010dk zado\u0161\u010dati za dano natan\u010dnost."
     ]
    },
    {
     "cell_type": "code",
     "collapsed": false,
     "input": [
      "# baricentri\u010dna formula\n",
      "def baricentric(x,f,lam,xi):\n",
      "    \"\"\"Izra\u010duna vrednosti interpolacijskega polinoma v x z vrednostmi funkcije f v to\u010dkah xi\"\"\"\n",
      "    idx = find(x==xi)\n",
      "    if len(idx)>0:\n",
      "        return f[idx]\n",
      "    else:\n",
      "        return sum(f*lam/(x-xi))/sum(lam/(x-xi))\n",
      "utezi = lambda n: (-1)**arange(n)*hstack((0.5,ones((n-2,)),0.5))"
     ],
     "language": "python",
     "metadata": {},
     "outputs": [],
     "prompt_number": 75
    },
    {
     "cell_type": "code",
     "collapsed": false,
     "input": [
      "ab_cheb = lambda n,a,b: a+(b-a)*(1+cos(linspace(0,pi,n)))/2\n",
      "# Lagrangeva interpolacija\n",
      "def int_poly(fun,a,b,n):\n",
      "    xi = a+(b-a)*(1+cos(linspace(0,pi,n)))/2\n",
      "    lam = (-1)**arange(n)*hstack((0.5,ones((n-2,)),0.5))\n",
      "    f = fun(xi)\n",
      "    return vectorize(lambda x: baricentric(x,f,lam,xi))"
     ],
     "language": "python",
     "metadata": {},
     "outputs": [],
     "prompt_number": 77
    },
    {
     "cell_type": "code",
     "collapsed": false,
     "input": [
      "phi_int = int_poly(phi2,0,6.5,25)\n",
      "plot(t,phi2(t)-phi_int(t))"
     ],
     "language": "python",
     "metadata": {},
     "outputs": [
      {
       "metadata": {},
       "output_type": "pyout",
       "prompt_number": 83,
       "text": [
        "[<matplotlib.lines.Line2D at 0x91c2f10>]"
       ]
      },
      {
       "metadata": {},
       "output_type": "display_data",
       "png": "[encoded data removed]",
       "text": [
        "<matplotlib.figure.Figure at 0x8656310>"
       ]
      }
     ],
     "prompt_number": 83
    },
    {
     "cell_type": "markdown",
     "metadata": {},
     "source": [
      "Z interpolacijo na \u010cebi\u0161evih to\u010dkah zado\u0161\u010da 25 to\u010dk. "
     ]
    }
   ],
   "metadata": {}
  }
 ]
}