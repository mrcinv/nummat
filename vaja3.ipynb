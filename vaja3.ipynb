{
 "metadata": {
  "name": ""
 },
 "nbformat": 3,
 "nbformat_minor": 0,
 "worksheets": [
  {
   "cells": [
    {
     "cell_type": "markdown",
     "metadata": {},
     "source": [
      "# QR razcep in metoda najmanj\u0161ih kvadratov\n",
      "\n",
      "Pri metodi najmanj\u0161ih kvadratov i\u0161\u010demo optimalno re\u0161itev predlolo\u010denaga sistema\n",
      "\n",
      "$$y=Ax,$$\n",
      "\n",
      "za katero je 2. norma ostanka $||Ax-y||_2$ minimalna. Nalogo lahko re\u0161imo s QR razcepom matrike $A$"
     ]
    },
    {
     "cell_type": "code",
     "collapsed": false,
     "input": [
      "%profile sympy\n",
      "from IPython.display import display\n",
      "from sympy import Matrix\n",
      "\n",
      "from sympy.interactive import printing\n",
      "printing.init_printing(use_latex=True)"
     ],
     "language": "python",
     "metadata": {},
     "outputs": [
      {
       "output_type": "stream",
       "stream": "stdout",
       "text": [
        "default\n"
       ]
      }
     ],
     "prompt_number": 199
    },
    {
     "cell_type": "code",
     "collapsed": false,
     "input": [
      "A=array([[1,2, 3], [3, 2, 1], [1, 1,1]])\n",
      "Matrix(A)"
     ],
     "language": "python",
     "metadata": {},
     "outputs": [
      {
       "latex": [
        "$$\\left[\\begin{smallmatrix}1 & 2 & 3\\\\3 & 2 & 1\\\\1 & 1 & 1\\end{smallmatrix}\\right]$$"
       ],
       "metadata": {},
       "output_type": "pyout",
       "png": "[encoded data removed]",
       "prompt_number": 200,
       "text": [
        "\u23a11  2  3\u23a4\n",
        "\u23a2       \u23a5\n",
        "\u23a23  2  1\u23a5\n",
        "\u23a2       \u23a5\n",
        "\u23a31  1  1\u23a6"
       ]
      }
     ],
     "prompt_number": 200
    },
    {
     "cell_type": "code",
     "collapsed": false,
     "input": [
      "x = A[0:,0]\n",
      "x.shape"
     ],
     "language": "python",
     "metadata": {},
     "outputs": [
      {
       "metadata": {},
       "output_type": "pyout",
       "prompt_number": 77,
       "text": [
        "(3,)"
       ]
      }
     ],
     "prompt_number": 77
    },
    {
     "cell_type": "markdown",
     "metadata": {},
     "source": [
      "## Hausolderjevo zrcaljenje\n",
      "\n",
      "Naj bo $\\newcommand{\\u}{\\mathbf{u}}\\u$ normala ravnine v evklidskem prostoru. Matriko zrcaljenja preko ravnine $\\newcommand{\\x}{\\mathbf{x}}\\u\\cdot\\x=0$ lahko zapi\u0161emo kot\n",
      "\n",
      "$$H=I-2\\frac{\\u\\u^T}{\\u^T\\u},$$\n",
      "\n",
      "vendar je za ra\u010dunanje pravzaprav niti ne potrbujemo, saj lahko produkt s $H$ izra\u010dunamo preprosteje s formulo\n",
      "\n",
      "$$H\\x = \\x - 2\\frac{\\u^T\\x}{\\u^T\\u}\\u,$$\n",
      "\n",
      "pri kateri potrebujemo bistveno manj operacij, kot pri mno\u017eenju z matriko $H$."
     ]
    },
    {
     "cell_type": "code",
     "collapsed": false,
     "input": [
      "# vektor\n",
      "x = array([2,1])\n",
      "# normala ravnine\n",
      "u = array([-1,1])\n",
      "# zrcaljenje \u010dez ravnino x+z=0\n",
      "Hx = x - 2*(u.dot(x))/(u.dot(u))*u\n",
      "\n",
      "p1, = plot([x[0],0,Hx[0]],[x[1],0,Hx[1]],'-')\n",
      "p2, = plot([-1,3],array([-1,3]),'-r')\n",
      "p3, = plot([0,u[0]],[0,u[1]],'-m')\n",
      "legend([p1,p2,p3],[\"vektor x in Hx\", \"zrcalo\",\"vektor u\"],loc=4)\n",
      "xlim=[-2,3]\n",
      "axis(\"equal\")\n"
     ],
     "language": "python",
     "metadata": {},
     "outputs": [
      {
       "metadata": {},
       "output_type": "pyout",
       "prompt_number": 142,
       "text": [
        "(-1.0, 3.0, -1.0, 3.0)"
       ]
      },
      {
       "metadata": {},
       "output_type": "display_data",
       "png": "[encoded data removed]",
       "text": [
        "<matplotlib.figure.Figure at 0x48b1d90>"
       ]
      }
     ],
     "prompt_number": 142
    },
    {
     "cell_type": "code",
     "collapsed": false,
     "input": [
      "A=array([[1,2, 3], [3, 2, 1], [1, 1,1],[-1,3,2]])\n",
      "x = A[0:,[0]]\n",
      "x.shape"
     ],
     "language": "python",
     "metadata": {},
     "outputs": [
      {
       "latex": [
        "$$\\begin{pmatrix}4, & 1\\end{pmatrix}$$"
       ],
       "metadata": {},
       "output_type": "pyout",
       "prompt_number": 196,
       "text": [
        "(4, 1)"
       ]
      }
     ],
     "prompt_number": 196
    },
    {
     "cell_type": "code",
     "collapsed": false,
     "input": [
      "%load qr.py"
     ],
     "language": "python",
     "metadata": {},
     "outputs": [],
     "prompt_number": 182
    },
    {
     "cell_type": "code",
     "collapsed": false,
     "input": [
      "def qr(A):\n",
      "    \"\"\"Funkcija qr(A) vrne QR razcep matrike A\n",
      "    Vhod:\n",
      "        A ... nxm matrika\n",
      "    Rezultat:\n",
      "        Q ... nxm matrika Q.T*Q = Id\n",
      "        R ... mxm zgornje trikotna matrika\n",
      "    \"\"\"\n",
      "    n,m = A.shape\n",
      "    R = A.copy()\n",
      "    Q = vstack((eye(m),zeros((n-m,m))))\n",
      "    for i in range(m-1):\n",
      "        x = R[i:,[i]]\n",
      "        e1 = zeros(x.shape); e1[0] = 1\n",
      "        # vektor preko katerega zrcalimo\n",
      "        u = x - sign(x[0])*norm(x)*e1\n",
      "        uTu = u.T.dot(u)\n",
      "        if uTu < 1e-15:\n",
      "            # \u010de sta vektorja e1 in x kolinearna\n",
      "            # smo \u017ee opravili\n",
      "            continue\n",
      "        # prezrcalimo preostanek matrike \n",
      "        R[i:,i:] = R[i:,i:] - 2*u.dot(u.T.dot(R[i:,i:]))/uTu\n",
      "        # prezrcalimo \u0161e I\n",
      "        Q[i:,i:] = Q[i:,i:] - 2*u.dot(u.T.dot(Q[i:,i:]))/uTu\n",
      "    return (Q,R)\n"
     ],
     "language": "python",
     "metadata": {},
     "outputs": []
    },
    {
     "cell_type": "code",
     "collapsed": false,
     "input": [
      "Q,R = qr(A)\n",
      "set_printoptions(precision=4)\n",
      "print Q\n",
      "print R"
     ],
     "language": "python",
     "metadata": {},
     "outputs": [
      {
       "output_type": "stream",
       "stream": "stdout",
       "text": [
        "[[-0.3015  0.9239 -0.2357]\n",
        " [-0.9045 -0.3553 -0.2357]\n",
        " [-0.3015  0.1421  0.9428]]\n",
        "[[ -3.3166e+00  -2.7136e+00  -2.1106e+00]\n",
        " [  0.0000e+00   1.2792e+00   2.5584e+00]\n",
        " [  0.0000e+00   0.0000e+00   2.2204e-16]]\n"
       ]
      }
     ],
     "prompt_number": 204
    },
    {
     "cell_type": "code",
     "collapsed": false,
     "input": [
      "qr(A)"
     ],
     "language": "python",
     "metadata": {},
     "outputs": [
      {
       "metadata": {},
       "output_type": "pyout",
       "prompt_number": 79,
       "text": [
        "(array([[-0.30151134,  0.92386977, -0.23570226],\n",
        "       [-0.90453403, -0.35533453, -0.23570226],\n",
        "       [-0.30151134,  0.14213381,  0.94280904]]),\n",
        " array([[ -3.31662479e+00,  -2.71360210e+00,  -2.11057941e+00],\n",
        "       [  0.00000000e+00,   1.27920430e+00,   2.55840860e+00],\n",
        "       [  0.00000000e+00,   0.00000000e+00,   2.22044605e-16]]))"
       ]
      }
     ],
     "prompt_number": 79
    },
    {
     "cell_type": "code",
     "collapsed": false,
     "input": [
      "x = linspace(0,1,20)\n",
      "y = x**2+x+1+0.1*random.normal(size=x.shape)\n",
      "plot(x,y,'.')"
     ],
     "language": "python",
     "metadata": {},
     "outputs": [
      {
       "metadata": {},
       "output_type": "pyout",
       "prompt_number": 111,
       "text": [
        "[<matplotlib.lines.Line2D at 0x473dc90>]"
       ]
      },
      {
       "metadata": {},
       "output_type": "display_data",
       "png": "[encoded data removed]",
       "text": [
        "<matplotlib.figure.Figure at 0x4779950>"
       ]
      }
     ],
     "prompt_number": 111
    },
    {
     "cell_type": "code",
     "collapsed": false,
     "input": [
      "# bazni vektorji za prostor polinomov\n",
      "x.shape=(20,1)\n",
      "A=hstack((ones(x.shape),x,x**2))"
     ],
     "language": "python",
     "metadata": {},
     "outputs": [],
     "prompt_number": 112
    },
    {
     "cell_type": "code",
     "collapsed": false,
     "input": [
      "# rekonstruiramo x\n",
      "Q,R = qr(A)\n",
      "# re\u0161imo sistem Q.T*y = R*x\n",
      "p = solve(R,Q.T.dot(y))\n",
      "p"
     ],
     "language": "python",
     "metadata": {},
     "outputs": [
      {
       "metadata": {},
       "output_type": "pyout",
       "prompt_number": 113,
       "text": [
        "array([ 1.02406841,  1.02164181,  0.9409798 ])"
       ]
      }
     ],
     "prompt_number": 113
    },
    {
     "cell_type": "code",
     "collapsed": false,
     "input": [
      "plot(x,y,'.')\n",
      "plot(x,A.dot(p),'r')"
     ],
     "language": "python",
     "metadata": {},
     "outputs": [
      {
       "metadata": {},
       "output_type": "pyout",
       "prompt_number": 114,
       "text": [
        "[<matplotlib.lines.Line2D at 0x474c350>]"
       ]
      },
      {
       "metadata": {},
       "output_type": "display_data",
       "png": "[encoded data removed]",
       "text": [
        "<matplotlib.figure.Figure at 0x474c110>"
       ]
      }
     ],
     "prompt_number": 114
    },
    {
     "cell_type": "code",
     "collapsed": false,
     "input": [
      "A.T.dot(y-A.dot(x))"
     ],
     "language": "python",
     "metadata": {},
     "outputs": [
      {
       "ename": "ValueError",
       "evalue": "matrices are not aligned",
       "output_type": "pyerr",
       "traceback": [
        "\u001b[1;31m---------------------------------------------------------------------------\u001b[0m\n\u001b[1;31mValueError\u001b[0m                                Traceback (most recent call last)",
        "\u001b[1;32m<ipython-input-116-1ba1c3255292>\u001b[0m in \u001b[0;36m<module>\u001b[1;34m()\u001b[0m\n\u001b[1;32m----> 1\u001b[1;33m \u001b[0mA\u001b[0m\u001b[1;33m.\u001b[0m\u001b[0mT\u001b[0m\u001b[1;33m.\u001b[0m\u001b[0mdot\u001b[0m\u001b[1;33m(\u001b[0m\u001b[0my\u001b[0m\u001b[1;33m-\u001b[0m\u001b[0mA\u001b[0m\u001b[1;33m.\u001b[0m\u001b[0mdot\u001b[0m\u001b[1;33m(\u001b[0m\u001b[0mx\u001b[0m\u001b[1;33m)\u001b[0m\u001b[1;33m)\u001b[0m\u001b[1;33m\u001b[0m\u001b[0m\n\u001b[0m",
        "\u001b[1;31mValueError\u001b[0m: matrices are not aligned"
       ]
      }
     ],
     "prompt_number": 116
    },
    {
     "cell_type": "code",
     "collapsed": false,
     "input": [
      "from numpy.linalg import qr"
     ],
     "language": "python",
     "metadata": {},
     "outputs": [],
     "prompt_number": 101
    },
    {
     "cell_type": "code",
     "collapsed": false,
     "input": [
      "y-A"
     ],
     "language": "python",
     "metadata": {},
     "outputs": []
    }
   ],
   "metadata": {}
  }
 ]
}